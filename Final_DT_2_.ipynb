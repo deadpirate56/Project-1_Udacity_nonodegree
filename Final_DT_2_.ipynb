{
  "nbformat": 4,
  "nbformat_minor": 0,
  "metadata": {
    "colab": {
      "name": "Final DT_2-.ipynb",
      "provenance": [],
      "collapsed_sections": [],
      "mount_file_id": "1nZKhx7wV5ZnzeAi40-IieN4s5d3qxTa3",
      "authorship_tag": "ABX9TyPr35x637r/Hs/vcLDkgFtp",
      "include_colab_link": true
    },
    "kernelspec": {
      "name": "python3",
      "display_name": "Python 3"
    }
  },
  "cells": [
    {
      "cell_type": "markdown",
      "metadata": {
        "id": "view-in-github",
        "colab_type": "text"
      },
      "source": [
        "<a href=\"https://colab.research.google.com/github/deadpirate56/Udacity-Data-Science-Nanodegree/blob/main/Final_DT_2_.ipynb\" target=\"_parent\"><img src=\"https://colab.research.google.com/assets/colab-badge.svg\" alt=\"Open In Colab\"/></a>"
      ]
    },
    {
      "cell_type": "markdown",
      "metadata": {
        "id": "oIVRuFPmFnfm"
      },
      "source": [
        "\n",
        "# Importing required libraries\n",
        "\n"
      ]
    },
    {
      "cell_type": "code",
      "metadata": {
        "id": "CPu9CK1zFHvm",
        "colab": {
          "base_uri": "https://localhost:8080/",
          "height": 87
        },
        "outputId": "a7a89c53-0ca9-402b-9bd5-cb224208719d"
      },
      "source": [
        "import numpy as np \n",
        "import pandas as pd \n",
        "\n",
        "# Data Visualization\n",
        "import seaborn as sns\n",
        "import matplotlib.pyplot as plt\n",
        "%matplotlib inline\n",
        "import json\n",
        "\n",
        "print (\"Set up complete!\")\n",
        "\n",
        "\n"
      ],
      "execution_count": null,
      "outputs": [
        {
          "output_type": "stream",
          "text": [
            "Set up complete!\n"
          ],
          "name": "stdout"
        },
        {
          "output_type": "stream",
          "text": [
            "/usr/local/lib/python3.6/dist-packages/statsmodels/tools/_testing.py:19: FutureWarning: pandas.util.testing is deprecated. Use the functions in the public API at pandas.testing instead.\n",
            "  import pandas.util.testing as tm\n"
          ],
          "name": "stderr"
        }
      ]
    },
    {
      "cell_type": "markdown",
      "metadata": {
        "id": "8wJm0d6zLQEe"
      },
      "source": [
        "# Loading the data"
      ]
    },
    {
      "cell_type": "code",
      "metadata": {
        "id": "TmWJVIDvLGE1",
        "colab": {
          "base_uri": "https://localhost:8080/",
          "height": 34
        },
        "outputId": "038ee7a2-017d-4e88-edb5-663adecc997e"
      },
      "source": [
        "sales_2015_path = '/content/drive/My Drive/Data Science Hackathon/bb9f6a4cbd5311ea/Dataset/2015_sales_data.csv'\n",
        "sales_2016_path ='/content/drive/My Drive/Data Science Hackathon/bb9f6a4cbd5311ea/Dataset/2016_sales_data.csv'\n",
        "sales_2017_path = '/content/drive/My Drive/Data Science Hackathon/bb9f6a4cbd5311ea/Dataset/2017_sales_data.csv'\n",
        "sales_2018_path = '/content/drive/My Drive/Data Science Hackathon/bb9f6a4cbd5311ea/Dataset/2018_sales_data.csv'\n",
        "city_dict_path = open('/content/drive/My Drive/Data Science Hackathon/bb9f6a4cbd5311ea/Dataset/city_dict.json')\n",
        "expected_discount_path = '/content/drive/My Drive/Data Science Hackathon/bb9f6a4cbd5311ea/Dataset/expected_discount.csv'\n",
        "foot_fall = '/content/drive/My Drive/Data Science Hackathon/bb9f6a4cbd5311ea/Dataset/foot_fall.csv'\n",
        "historical_discount = '/content/drive/My Drive/Data Science Hackathon/bb9f6a4cbd5311ea/Dataset/historical_discount.csv'\n",
        "product_information = '/content/drive/My Drive/Data Science Hackathon/bb9f6a4cbd5311ea/Dataset/product_information.csv'\n",
        "sample_submission = '/content/drive/My Drive/Data Science Hackathon/bb9f6a4cbd5311ea/Dataset/sample_submission.csv'\n",
        "test_data = '/content/drive/My Drive/Data Science Hackathon/bb9f6a4cbd5311ea/Dataset/test_data.csv'\n",
        "\n",
        "sales_2015 = pd.read_csv (sales_2015_path)\n",
        "sales_2016 = pd.read_csv (sales_2016_path)\n",
        "sales_2017 = pd.read_csv (sales_2017_path)\n",
        "sales_2018 = pd.read_csv (sales_2018_path)\n",
        "city_dict = json.load (city_dict_path)\n",
        "expected_discount = pd.read_csv (expected_discount_path)\n",
        "foot_fall = pd.read_csv (foot_fall)\n",
        "historical_discount = pd.read_csv (historical_discount)\n",
        "product_information = pd.read_csv (product_information)\n",
        "sample_submission = pd.read_csv (sample_submission)\n",
        "test_data = pd.read_csv (test_data)\n",
        "test_data['date'] = pd.to_datetime(test_data['date'])\n",
        "\n",
        "print(\"Data Load complete!\")"
      ],
      "execution_count": null,
      "outputs": [
        {
          "output_type": "stream",
          "text": [
            "Data Load complete!\n"
          ],
          "name": "stdout"
        }
      ]
    },
    {
      "cell_type": "markdown",
      "metadata": {
        "id": "yLmMhtjPOYiE"
      },
      "source": [
        "# Vizualising and Exploring the data"
      ]
    },
    {
      "cell_type": "markdown",
      "metadata": {
        "id": "YMGf8fegOqmz"
      },
      "source": [
        "### Exploring Sales Data Files\n",
        "We have data from 4 years - 2015,16,17 and 18\n",
        "we will check for nulls in the data and then we will merge all tables to create a single dataframe \"Sales\"\n",
        "\n",
        "\n"
      ]
    },
    {
      "cell_type": "code",
      "metadata": {
        "id": "9Sh-Umr6LGaL",
        "colab": {
          "base_uri": "https://localhost:8080/",
          "height": 252
        },
        "outputId": "647fddbb-2114-4be5-fa17-c26116a5d6e2"
      },
      "source": [
        "\n",
        "print(\"sales_2017\")\n",
        "print(sales_2017.head())\n",
        "print(\"sales_2018\")\n",
        "print(sales_2018.head())"
      ],
      "execution_count": null,
      "outputs": [
        {
          "output_type": "stream",
          "text": [
            "sales_2017\n",
            "         date  city  product  sales\n",
            "0  2017-01-02     1        1   28.0\n",
            "1  2017-01-02     1        2   72.0\n",
            "2  2017-01-02     1        3  128.0\n",
            "3  2017-01-02     1        4   20.0\n",
            "4  2017-01-02     1        5    4.0\n",
            "sales_2018\n",
            "         date  city  product  sales\n",
            "0  2018-01-02     1     1292   48.0\n",
            "1  2018-01-02     1        1   64.0\n",
            "2  2018-01-02     1        2   48.0\n",
            "3  2018-01-02     1        3  104.0\n",
            "4  2018-01-02     1        4   16.0\n"
          ],
          "name": "stdout"
        }
      ]
    },
    {
      "cell_type": "code",
      "metadata": {
        "id": "GCbhXFhPLG2s",
        "colab": {
          "base_uri": "https://localhost:8080/",
          "height": 218
        },
        "outputId": "f5b2ffbc-5b9b-4acc-e092-29155be9e51e"
      },
      "source": [
        "\n",
        "print(\"2017 sales data null check\")\n",
        "print(sales_2017.isnull().sum())\n",
        "print(\"2018 sales data null check\")\n",
        "print(sales_2018.isnull().sum())"
      ],
      "execution_count": null,
      "outputs": [
        {
          "output_type": "stream",
          "text": [
            "2017 sales data null check\n",
            "date       0\n",
            "city       0\n",
            "product    0\n",
            "sales      0\n",
            "dtype: int64\n",
            "2018 sales data null check\n",
            "date       0\n",
            "city       0\n",
            "product    0\n",
            "sales      0\n",
            "dtype: int64\n"
          ],
          "name": "stdout"
        }
      ]
    },
    {
      "cell_type": "markdown",
      "metadata": {
        "id": "euRztWvWQKS7"
      },
      "source": [
        "### Appending all year wise sales dataframes together to create a final sales dataframe"
      ]
    },
    {
      "cell_type": "code",
      "metadata": {
        "id": "0mKRJPmCLGww",
        "colab": {
          "base_uri": "https://localhost:8080/",
          "height": 195
        },
        "outputId": "323976d0-8e77-497a-ce7a-5c424fc5cedd"
      },
      "source": [
        "\n",
        "yearly_sales = sales_2017.append(sales_2018, ignore_index = True)\n",
        "yearly_sales['date'] = pd.to_datetime(yearly_sales['date'])\n",
        "\n",
        "yearly_sales.head()"
      ],
      "execution_count": null,
      "outputs": [
        {
          "output_type": "execute_result",
          "data": {
            "text/html": [
              "<div>\n",
              "<style scoped>\n",
              "    .dataframe tbody tr th:only-of-type {\n",
              "        vertical-align: middle;\n",
              "    }\n",
              "\n",
              "    .dataframe tbody tr th {\n",
              "        vertical-align: top;\n",
              "    }\n",
              "\n",
              "    .dataframe thead th {\n",
              "        text-align: right;\n",
              "    }\n",
              "</style>\n",
              "<table border=\"1\" class=\"dataframe\">\n",
              "  <thead>\n",
              "    <tr style=\"text-align: right;\">\n",
              "      <th></th>\n",
              "      <th>date</th>\n",
              "      <th>city</th>\n",
              "      <th>product</th>\n",
              "      <th>sales</th>\n",
              "    </tr>\n",
              "  </thead>\n",
              "  <tbody>\n",
              "    <tr>\n",
              "      <th>0</th>\n",
              "      <td>2017-01-02</td>\n",
              "      <td>1</td>\n",
              "      <td>1</td>\n",
              "      <td>28.0</td>\n",
              "    </tr>\n",
              "    <tr>\n",
              "      <th>1</th>\n",
              "      <td>2017-01-02</td>\n",
              "      <td>1</td>\n",
              "      <td>2</td>\n",
              "      <td>72.0</td>\n",
              "    </tr>\n",
              "    <tr>\n",
              "      <th>2</th>\n",
              "      <td>2017-01-02</td>\n",
              "      <td>1</td>\n",
              "      <td>3</td>\n",
              "      <td>128.0</td>\n",
              "    </tr>\n",
              "    <tr>\n",
              "      <th>3</th>\n",
              "      <td>2017-01-02</td>\n",
              "      <td>1</td>\n",
              "      <td>4</td>\n",
              "      <td>20.0</td>\n",
              "    </tr>\n",
              "    <tr>\n",
              "      <th>4</th>\n",
              "      <td>2017-01-02</td>\n",
              "      <td>1</td>\n",
              "      <td>5</td>\n",
              "      <td>4.0</td>\n",
              "    </tr>\n",
              "  </tbody>\n",
              "</table>\n",
              "</div>"
            ],
            "text/plain": [
              "        date  city  product  sales\n",
              "0 2017-01-02     1        1   28.0\n",
              "1 2017-01-02     1        2   72.0\n",
              "2 2017-01-02     1        3  128.0\n",
              "3 2017-01-02     1        4   20.0\n",
              "4 2017-01-02     1        5    4.0"
            ]
          },
          "metadata": {
            "tags": []
          },
          "execution_count": 5
        }
      ]
    },
    {
      "cell_type": "code",
      "metadata": {
        "id": "3ZA07t_3AHLU",
        "colab": {
          "base_uri": "https://localhost:8080/",
          "height": 402
        },
        "outputId": "e01bee01-aaa6-4fec-c0b6-c11c15256540"
      },
      "source": [
        "test_data.astype({'date':'datetime64'})"
      ],
      "execution_count": null,
      "outputs": [
        {
          "output_type": "execute_result",
          "data": {
            "text/html": [
              "<div>\n",
              "<style scoped>\n",
              "    .dataframe tbody tr th:only-of-type {\n",
              "        vertical-align: middle;\n",
              "    }\n",
              "\n",
              "    .dataframe tbody tr th {\n",
              "        vertical-align: top;\n",
              "    }\n",
              "\n",
              "    .dataframe thead th {\n",
              "        text-align: right;\n",
              "    }\n",
              "</style>\n",
              "<table border=\"1\" class=\"dataframe\">\n",
              "  <thead>\n",
              "    <tr style=\"text-align: right;\">\n",
              "      <th></th>\n",
              "      <th>id</th>\n",
              "      <th>date</th>\n",
              "      <th>city</th>\n",
              "      <th>product</th>\n",
              "    </tr>\n",
              "  </thead>\n",
              "  <tbody>\n",
              "    <tr>\n",
              "      <th>0</th>\n",
              "      <td>1</td>\n",
              "      <td>2018-05-01</td>\n",
              "      <td>1</td>\n",
              "      <td>1292</td>\n",
              "    </tr>\n",
              "    <tr>\n",
              "      <th>1</th>\n",
              "      <td>2</td>\n",
              "      <td>2018-05-01</td>\n",
              "      <td>1</td>\n",
              "      <td>1</td>\n",
              "    </tr>\n",
              "    <tr>\n",
              "      <th>2</th>\n",
              "      <td>3</td>\n",
              "      <td>2018-05-01</td>\n",
              "      <td>1</td>\n",
              "      <td>2</td>\n",
              "    </tr>\n",
              "    <tr>\n",
              "      <th>3</th>\n",
              "      <td>4</td>\n",
              "      <td>2018-05-01</td>\n",
              "      <td>1</td>\n",
              "      <td>3</td>\n",
              "    </tr>\n",
              "    <tr>\n",
              "      <th>4</th>\n",
              "      <td>5</td>\n",
              "      <td>2018-05-01</td>\n",
              "      <td>1</td>\n",
              "      <td>4</td>\n",
              "    </tr>\n",
              "    <tr>\n",
              "      <th>...</th>\n",
              "      <td>...</td>\n",
              "      <td>...</td>\n",
              "      <td>...</td>\n",
              "      <td>...</td>\n",
              "    </tr>\n",
              "    <tr>\n",
              "      <th>2262130</th>\n",
              "      <td>2262131</td>\n",
              "      <td>2018-07-31</td>\n",
              "      <td>10</td>\n",
              "      <td>3163</td>\n",
              "    </tr>\n",
              "    <tr>\n",
              "      <th>2262131</th>\n",
              "      <td>2262132</td>\n",
              "      <td>2018-07-31</td>\n",
              "      <td>10</td>\n",
              "      <td>3164</td>\n",
              "    </tr>\n",
              "    <tr>\n",
              "      <th>2262132</th>\n",
              "      <td>2262133</td>\n",
              "      <td>2018-07-31</td>\n",
              "      <td>10</td>\n",
              "      <td>3157</td>\n",
              "    </tr>\n",
              "    <tr>\n",
              "      <th>2262133</th>\n",
              "      <td>2262134</td>\n",
              "      <td>2018-07-31</td>\n",
              "      <td>10</td>\n",
              "      <td>3165</td>\n",
              "    </tr>\n",
              "    <tr>\n",
              "      <th>2262134</th>\n",
              "      <td>2262135</td>\n",
              "      <td>2018-07-31</td>\n",
              "      <td>10</td>\n",
              "      <td>3057</td>\n",
              "    </tr>\n",
              "  </tbody>\n",
              "</table>\n",
              "<p>2262135 rows × 4 columns</p>\n",
              "</div>"
            ],
            "text/plain": [
              "              id       date  city  product\n",
              "0              1 2018-05-01     1     1292\n",
              "1              2 2018-05-01     1        1\n",
              "2              3 2018-05-01     1        2\n",
              "3              4 2018-05-01     1        3\n",
              "4              5 2018-05-01     1        4\n",
              "...          ...        ...   ...      ...\n",
              "2262130  2262131 2018-07-31    10     3163\n",
              "2262131  2262132 2018-07-31    10     3164\n",
              "2262132  2262133 2018-07-31    10     3157\n",
              "2262133  2262134 2018-07-31    10     3165\n",
              "2262134  2262135 2018-07-31    10     3057\n",
              "\n",
              "[2262135 rows x 4 columns]"
            ]
          },
          "metadata": {
            "tags": []
          },
          "execution_count": 6
        }
      ]
    },
    {
      "cell_type": "markdown",
      "metadata": {
        "id": "W00YgU4yRo7u"
      },
      "source": [
        "Using the len function allows us to view how many rows are there in this entire dataframe -"
      ]
    },
    {
      "cell_type": "code",
      "metadata": {
        "id": "oIWOnLCPLGvh",
        "colab": {
          "base_uri": "https://localhost:8080/",
          "height": 34
        },
        "outputId": "28d200e9-969d-402b-dc80-ffdfc0b32d81"
      },
      "source": [
        "print (\"total rows of sales data : \", len(yearly_sales))"
      ],
      "execution_count": null,
      "outputs": [
        {
          "output_type": "stream",
          "text": [
            "total rows of sales data :  10253427\n"
          ],
          "name": "stdout"
        }
      ]
    },
    {
      "cell_type": "markdown",
      "metadata": {
        "id": "7RsSfdgaaVnj"
      },
      "source": [
        "### Exploring the City Dataset\n",
        "\n",
        "City dataset has the codes for each of the cities"
      ]
    },
    {
      "cell_type": "code",
      "metadata": {
        "id": "zUMpRCUGLGod",
        "colab": {
          "base_uri": "https://localhost:8080/",
          "height": 343
        },
        "outputId": "4dba0bff-b2c6-4632-c2e5-f8d471607dda"
      },
      "source": [
        "city = pd.DataFrame.from_dict(city_dict, orient='index', columns =['City'])\n",
        "city['city_code']= city.index\n",
        "\n",
        "city_name_code_dictionary = city.set_index(\"City\").to_dict()\n",
        "city"
      ],
      "execution_count": null,
      "outputs": [
        {
          "output_type": "execute_result",
          "data": {
            "text/html": [
              "<div>\n",
              "<style scoped>\n",
              "    .dataframe tbody tr th:only-of-type {\n",
              "        vertical-align: middle;\n",
              "    }\n",
              "\n",
              "    .dataframe tbody tr th {\n",
              "        vertical-align: top;\n",
              "    }\n",
              "\n",
              "    .dataframe thead th {\n",
              "        text-align: right;\n",
              "    }\n",
              "</style>\n",
              "<table border=\"1\" class=\"dataframe\">\n",
              "  <thead>\n",
              "    <tr style=\"text-align: right;\">\n",
              "      <th></th>\n",
              "      <th>City</th>\n",
              "      <th>city_code</th>\n",
              "    </tr>\n",
              "  </thead>\n",
              "  <tbody>\n",
              "    <tr>\n",
              "      <th>4</th>\n",
              "      <td>Mumbai</td>\n",
              "      <td>4</td>\n",
              "    </tr>\n",
              "    <tr>\n",
              "      <th>5</th>\n",
              "      <td>Delhi</td>\n",
              "      <td>5</td>\n",
              "    </tr>\n",
              "    <tr>\n",
              "      <th>7</th>\n",
              "      <td>Bangalore</td>\n",
              "      <td>7</td>\n",
              "    </tr>\n",
              "    <tr>\n",
              "      <th>1</th>\n",
              "      <td>Kolkata</td>\n",
              "      <td>1</td>\n",
              "    </tr>\n",
              "    <tr>\n",
              "      <th>6</th>\n",
              "      <td>Chennai</td>\n",
              "      <td>6</td>\n",
              "    </tr>\n",
              "    <tr>\n",
              "      <th>8</th>\n",
              "      <td>Hyderabad</td>\n",
              "      <td>8</td>\n",
              "    </tr>\n",
              "    <tr>\n",
              "      <th>9</th>\n",
              "      <td>Ahmedabad</td>\n",
              "      <td>9</td>\n",
              "    </tr>\n",
              "    <tr>\n",
              "      <th>3</th>\n",
              "      <td>Jaipur</td>\n",
              "      <td>3</td>\n",
              "    </tr>\n",
              "    <tr>\n",
              "      <th>10</th>\n",
              "      <td>Lucknow</td>\n",
              "      <td>10</td>\n",
              "    </tr>\n",
              "    <tr>\n",
              "      <th>2</th>\n",
              "      <td>Other</td>\n",
              "      <td>2</td>\n",
              "    </tr>\n",
              "  </tbody>\n",
              "</table>\n",
              "</div>"
            ],
            "text/plain": [
              "         City city_code\n",
              "4      Mumbai         4\n",
              "5       Delhi         5\n",
              "7   Bangalore         7\n",
              "1     Kolkata         1\n",
              "6     Chennai         6\n",
              "8   Hyderabad         8\n",
              "9   Ahmedabad         9\n",
              "3      Jaipur         3\n",
              "10    Lucknow        10\n",
              "2       Other         2"
            ]
          },
          "metadata": {
            "tags": []
          },
          "execution_count": 8
        }
      ]
    },
    {
      "cell_type": "code",
      "metadata": {
        "id": "vJ8jZIJf1lMY",
        "colab": {
          "base_uri": "https://localhost:8080/",
          "height": 185
        },
        "outputId": "fdba572a-e436-4bae-9364-158b2fbbf445"
      },
      "source": [
        "city_name_code_dictionary = city.set_index(\"City\").to_dict()\n",
        "city_name_code_dictionary"
      ],
      "execution_count": null,
      "outputs": [
        {
          "output_type": "execute_result",
          "data": {
            "text/plain": [
              "{'city_code': {'Ahmedabad': '9',\n",
              "  'Bangalore': '7',\n",
              "  'Chennai': '6',\n",
              "  'Delhi': '5',\n",
              "  'Hyderabad': '8',\n",
              "  'Jaipur': '3',\n",
              "  'Kolkata': '1',\n",
              "  'Lucknow': '10',\n",
              "  'Mumbai': '4',\n",
              "  'Other': '2'}}"
            ]
          },
          "metadata": {
            "tags": []
          },
          "execution_count": 9
        }
      ]
    },
    {
      "cell_type": "markdown",
      "metadata": {
        "id": "QBDGMt2yTvnv"
      },
      "source": [
        "###Discount files\n",
        "\n",
        "we have two discount files in our dataset -\n",
        "\n",
        "\n",
        "*   Expected_discount\n",
        "*   Historical_dicount\n",
        "\n",
        "Historical discount should give us the data for the discount at product, date, city level\n",
        "expected discount has the discount rates for the coming 2 months - that is - for May and June 2018\n",
        "\n"
      ]
    },
    {
      "cell_type": "code",
      "metadata": {
        "id": "UFp3AEWzLGld",
        "colab": {
          "base_uri": "https://localhost:8080/",
          "height": 319
        },
        "outputId": "28782a86-d8f3-4283-f654-7b15f575b42c"
      },
      "source": [
        "print(\"expected_discount\")\n",
        "print(expected_discount.head())\n",
        "print(\"historical_discount\")\n",
        "print(historical_discount.head())\n"
      ],
      "execution_count": null,
      "outputs": [
        {
          "output_type": "stream",
          "text": [
            "expected_discount\n",
            "         date  product  ...  Discount_Mumbai  Discount_Other\n",
            "0  2018-05-01        2  ...              1.0             0.0\n",
            "1  2018-05-01       30  ...              1.0             1.0\n",
            "2  2018-05-01       31  ...              1.0             1.0\n",
            "3  2018-05-01       32  ...              1.0             1.0\n",
            "4  2018-05-01       33  ...              1.0             1.0\n",
            "\n",
            "[5 rows x 12 columns]\n",
            "historical_discount\n",
            "         date  product  ...  Discount_Mumbai  Discount_Other\n",
            "0  2016-04-29       45  ...              0.0             1.0\n",
            "1  2016-04-29      255  ...              0.0             1.0\n",
            "2  2016-04-29      316  ...              0.0             1.0\n",
            "3  2016-04-29      594  ...              0.0             1.0\n",
            "4  2016-04-29      664  ...              0.0             1.0\n",
            "\n",
            "[5 rows x 12 columns]\n"
          ],
          "name": "stdout"
        }
      ]
    },
    {
      "cell_type": "code",
      "metadata": {
        "id": "fPdtY5-52iMu",
        "colab": {
          "base_uri": "https://localhost:8080/",
          "height": 50
        },
        "outputId": "6b25d21f-2d43-43f4-b588-fb9e5211ecb5"
      },
      "source": [
        "# let's rename the columns to have the city codes instead of names of cities\n",
        "expected_discount.rename(columns = {'Discount_Ahmedabad': 9,\n",
        "  'Discount_Bangalore': 7,\n",
        "  'Discount_Chennai': 6,\n",
        "  'Discount_Delhi': 5,\n",
        "  'Discount_Hyderabad': 8,\n",
        "  'Discount_Jaipur': 3,\n",
        "  'Discount_Kolkata': 1,\n",
        "  'Discount_Lucknow': 10,\n",
        "  'Discount_Mumbai': 4,\n",
        "  'Discount_Other': 2}, inplace = True )\n",
        "\n",
        "historical_discount.rename(columns = {'Discount_Ahmedabad': 9,\n",
        "  'Discount_Bangalore': 7,\n",
        "  'Discount_Chennai': 6,\n",
        "  'Discount_Delhi': 5,\n",
        "  'Discount_Hyderabad': 8,\n",
        "  'Discount_Jaipur': 3,\n",
        "  'Discount_Kolkata': 1,\n",
        "  'Discount_Lucknow': 10,\n",
        "  'Discount_Mumbai': 4,\n",
        "  'Discount_Other': 2}, inplace = True )\n",
        "\n",
        "\n",
        "print(expected_discount.columns)\n",
        "print(historical_discount.columns)"
      ],
      "execution_count": null,
      "outputs": [
        {
          "output_type": "stream",
          "text": [
            "Index(['date', 'product', 9, 7, 6, 5, 8, 3, 1, 10, 4, 2], dtype='object')\n",
            "Index(['date', 'product', 9, 7, 6, 5, 8, 3, 1, 10, 4, 2], dtype='object')\n"
          ],
          "name": "stdout"
        }
      ]
    },
    {
      "cell_type": "code",
      "metadata": {
        "id": "V1tkmTah-06J",
        "colab": {
          "base_uri": "https://localhost:8080/",
          "height": 195
        },
        "outputId": "f221c7ed-a1ec-40c1-94e9-d344e9d9e7d9"
      },
      "source": [
        "expected_discount.head()\n",
        "historical_discount.head()"
      ],
      "execution_count": null,
      "outputs": [
        {
          "output_type": "execute_result",
          "data": {
            "text/html": [
              "<div>\n",
              "<style scoped>\n",
              "    .dataframe tbody tr th:only-of-type {\n",
              "        vertical-align: middle;\n",
              "    }\n",
              "\n",
              "    .dataframe tbody tr th {\n",
              "        vertical-align: top;\n",
              "    }\n",
              "\n",
              "    .dataframe thead th {\n",
              "        text-align: right;\n",
              "    }\n",
              "</style>\n",
              "<table border=\"1\" class=\"dataframe\">\n",
              "  <thead>\n",
              "    <tr style=\"text-align: right;\">\n",
              "      <th></th>\n",
              "      <th>date</th>\n",
              "      <th>product</th>\n",
              "      <th>9</th>\n",
              "      <th>7</th>\n",
              "      <th>6</th>\n",
              "      <th>5</th>\n",
              "      <th>8</th>\n",
              "      <th>3</th>\n",
              "      <th>1</th>\n",
              "      <th>10</th>\n",
              "      <th>4</th>\n",
              "      <th>2</th>\n",
              "    </tr>\n",
              "  </thead>\n",
              "  <tbody>\n",
              "    <tr>\n",
              "      <th>0</th>\n",
              "      <td>2016-04-29</td>\n",
              "      <td>45</td>\n",
              "      <td>0.0</td>\n",
              "      <td>0.0</td>\n",
              "      <td>0.0</td>\n",
              "      <td>0.0</td>\n",
              "      <td>0.0</td>\n",
              "      <td>0.0</td>\n",
              "      <td>0.0</td>\n",
              "      <td>0.0</td>\n",
              "      <td>0.0</td>\n",
              "      <td>1.0</td>\n",
              "    </tr>\n",
              "    <tr>\n",
              "      <th>1</th>\n",
              "      <td>2016-04-29</td>\n",
              "      <td>255</td>\n",
              "      <td>0.0</td>\n",
              "      <td>0.0</td>\n",
              "      <td>0.0</td>\n",
              "      <td>0.0</td>\n",
              "      <td>0.0</td>\n",
              "      <td>0.0</td>\n",
              "      <td>0.0</td>\n",
              "      <td>0.0</td>\n",
              "      <td>0.0</td>\n",
              "      <td>1.0</td>\n",
              "    </tr>\n",
              "    <tr>\n",
              "      <th>2</th>\n",
              "      <td>2016-04-29</td>\n",
              "      <td>316</td>\n",
              "      <td>0.0</td>\n",
              "      <td>0.0</td>\n",
              "      <td>0.0</td>\n",
              "      <td>0.0</td>\n",
              "      <td>0.0</td>\n",
              "      <td>0.0</td>\n",
              "      <td>0.0</td>\n",
              "      <td>0.0</td>\n",
              "      <td>0.0</td>\n",
              "      <td>1.0</td>\n",
              "    </tr>\n",
              "    <tr>\n",
              "      <th>3</th>\n",
              "      <td>2016-04-29</td>\n",
              "      <td>594</td>\n",
              "      <td>0.0</td>\n",
              "      <td>0.0</td>\n",
              "      <td>0.0</td>\n",
              "      <td>0.0</td>\n",
              "      <td>0.0</td>\n",
              "      <td>0.0</td>\n",
              "      <td>0.0</td>\n",
              "      <td>0.0</td>\n",
              "      <td>0.0</td>\n",
              "      <td>1.0</td>\n",
              "    </tr>\n",
              "    <tr>\n",
              "      <th>4</th>\n",
              "      <td>2016-04-29</td>\n",
              "      <td>664</td>\n",
              "      <td>0.0</td>\n",
              "      <td>0.0</td>\n",
              "      <td>0.0</td>\n",
              "      <td>0.0</td>\n",
              "      <td>0.0</td>\n",
              "      <td>0.0</td>\n",
              "      <td>0.0</td>\n",
              "      <td>0.0</td>\n",
              "      <td>0.0</td>\n",
              "      <td>1.0</td>\n",
              "    </tr>\n",
              "  </tbody>\n",
              "</table>\n",
              "</div>"
            ],
            "text/plain": [
              "         date  product    9    7    6    5    8    3    1   10    4    2\n",
              "0  2016-04-29       45  0.0  0.0  0.0  0.0  0.0  0.0  0.0  0.0  0.0  1.0\n",
              "1  2016-04-29      255  0.0  0.0  0.0  0.0  0.0  0.0  0.0  0.0  0.0  1.0\n",
              "2  2016-04-29      316  0.0  0.0  0.0  0.0  0.0  0.0  0.0  0.0  0.0  1.0\n",
              "3  2016-04-29      594  0.0  0.0  0.0  0.0  0.0  0.0  0.0  0.0  0.0  1.0\n",
              "4  2016-04-29      664  0.0  0.0  0.0  0.0  0.0  0.0  0.0  0.0  0.0  1.0"
            ]
          },
          "metadata": {
            "tags": []
          },
          "execution_count": 12
        }
      ]
    },
    {
      "cell_type": "markdown",
      "metadata": {
        "id": "ekh69Mmw-SFG"
      },
      "source": [
        "###Let's pivot down the discount tables to get it on the same grain as the sales and test data"
      ]
    },
    {
      "cell_type": "code",
      "metadata": {
        "id": "feW8Nvw4-Rgu"
      },
      "source": [
        "# pivot down the discount tables\n",
        "expec_disc_pivotdown= expected_discount.melt(id_vars=['date','product'], var_name='City_Code', value_name='Discount')\n",
        "hist_disc_pivotdown = historical_discount.melt(id_vars=['date','product'], var_name='City_Code', value_name='Discount')\n",
        "\n",
        "expec_disc_pivotdown['date'] = pd.to_datetime(expec_disc_pivotdown['date'])\n",
        "hist_disc_pivotdown['date'] = pd.to_datetime(hist_disc_pivotdown['date'])"
      ],
      "execution_count": null,
      "outputs": []
    },
    {
      "cell_type": "code",
      "metadata": {
        "id": "a2JNQjxk_pz2",
        "colab": {
          "base_uri": "https://localhost:8080/",
          "height": 218
        },
        "outputId": "8bb86dd4-c040-46d6-976b-6b53cd4f6434"
      },
      "source": [
        "print(expec_disc_pivotdown.head())\n",
        "print(hist_disc_pivotdown.head())"
      ],
      "execution_count": null,
      "outputs": [
        {
          "output_type": "stream",
          "text": [
            "        date  product City_Code  Discount\n",
            "0 2018-05-01        2         9       0.0\n",
            "1 2018-05-01       30         9       1.0\n",
            "2 2018-05-01       31         9       1.0\n",
            "3 2018-05-01       32         9       1.0\n",
            "4 2018-05-01       33         9       1.0\n",
            "        date  product City_Code  Discount\n",
            "0 2016-04-29       45         9       0.0\n",
            "1 2016-04-29      255         9       0.0\n",
            "2 2016-04-29      316         9       0.0\n",
            "3 2016-04-29      594         9       0.0\n",
            "4 2016-04-29      664         9       0.0\n"
          ],
          "name": "stdout"
        }
      ]
    },
    {
      "cell_type": "markdown",
      "metadata": {
        "id": "5kcTCvClVjZF"
      },
      "source": [
        "Null Check on discount tables"
      ]
    },
    {
      "cell_type": "code",
      "metadata": {
        "id": "o6QWHD_xPtKe",
        "colab": {
          "base_uri": "https://localhost:8080/",
          "height": 487
        },
        "outputId": "4663f13c-258f-429e-80d2-f7d4cf4c5e92"
      },
      "source": [
        "print(\"expected_discount_null\")\n",
        "print(expected_discount.isnull().sum())\n",
        "print(\"historical_discount_null\")\n",
        "print(historical_discount.isnull().sum())\n"
      ],
      "execution_count": null,
      "outputs": [
        {
          "output_type": "stream",
          "text": [
            "expected_discount_null\n",
            "date       0\n",
            "product    0\n",
            "9          0\n",
            "7          0\n",
            "6          0\n",
            "5          0\n",
            "8          0\n",
            "3          0\n",
            "1          0\n",
            "10         0\n",
            "4          0\n",
            "2          0\n",
            "dtype: int64\n",
            "historical_discount_null\n",
            "date       0\n",
            "product    0\n",
            "9          0\n",
            "7          0\n",
            "6          0\n",
            "5          0\n",
            "8          0\n",
            "3          0\n",
            "1          0\n",
            "10         0\n",
            "4          0\n",
            "2          0\n",
            "dtype: int64\n"
          ],
          "name": "stdout"
        }
      ]
    },
    {
      "cell_type": "markdown",
      "metadata": {
        "id": "hx2W2XbHWMwq"
      },
      "source": [
        "##Exploring the foot fall data set\n",
        "\n",
        "> Footfall dataset shows the number of customers shopping on a particular date in a particular city\n",
        "\n"
      ]
    },
    {
      "cell_type": "code",
      "metadata": {
        "id": "qrxxgqsiPtRk",
        "colab": {
          "base_uri": "https://localhost:8080/",
          "height": 185
        },
        "outputId": "03738008-2c36-41d1-f3c4-05a0d6c59a60"
      },
      "source": [
        "print(foot_fall.head())\n",
        "print (\"nulls in footfall dataset!\")\n",
        "foot_fall_nulls = foot_fall.isnull().sum()\n",
        "print(foot_fall_nulls.sum())"
      ],
      "execution_count": null,
      "outputs": [
        {
          "output_type": "stream",
          "text": [
            "        city  1/2/2015  1/3/2015  ...  4/28/2018  4/29/2018  4/30/2018\n",
            "0  Ahmedabad      9384      6808  ...       9256      12360      14308\n",
            "1  Bangalore     16644     14640  ...      11680      14748      19344\n",
            "2    Chennai     19544     13752  ...      10428      12232      18408\n",
            "3      Delhi     16832     13256  ...      10904      14052      17984\n",
            "4  Hyderabad     13588     11548  ...       8508       9912      16380\n",
            "\n",
            "[5 rows x 1207 columns]\n",
            "nulls in footfall dataset!\n",
            "3\n"
          ],
          "name": "stdout"
        }
      ]
    },
    {
      "cell_type": "markdown",
      "metadata": {
        "id": "KL7Rr4LFavOv"
      },
      "source": [
        "###There are 3 nulls in the footfall dataset. We need to check for these null_values and fill them with mean of that city's mean footfall\n",
        "\n",
        "\n",
        "\n",
        "\n",
        "> We start by transposing the data so as to get columns as the City names\n",
        "\n"
      ]
    },
    {
      "cell_type": "code",
      "metadata": {
        "id": "UbWhmQWQPtf_",
        "colab": {
          "base_uri": "https://localhost:8080/",
          "height": 195
        },
        "outputId": "890eb3a7-0bf9-4952-fde6-55d5b4d61a35"
      },
      "source": [
        "foot_fall_transposed = foot_fall.transpose()\n",
        "foot_fall_transposed.columns = foot_fall_transposed.iloc[0]\n",
        "foot_fall_transposed = foot_fall_transposed[1:]\n",
        "foot_fall_transposed.head()"
      ],
      "execution_count": null,
      "outputs": [
        {
          "output_type": "execute_result",
          "data": {
            "text/html": [
              "<div>\n",
              "<style scoped>\n",
              "    .dataframe tbody tr th:only-of-type {\n",
              "        vertical-align: middle;\n",
              "    }\n",
              "\n",
              "    .dataframe tbody tr th {\n",
              "        vertical-align: top;\n",
              "    }\n",
              "\n",
              "    .dataframe thead th {\n",
              "        text-align: right;\n",
              "    }\n",
              "</style>\n",
              "<table border=\"1\" class=\"dataframe\">\n",
              "  <thead>\n",
              "    <tr style=\"text-align: right;\">\n",
              "      <th>city</th>\n",
              "      <th>Ahmedabad</th>\n",
              "      <th>Bangalore</th>\n",
              "      <th>Chennai</th>\n",
              "      <th>Delhi</th>\n",
              "      <th>Hyderabad</th>\n",
              "      <th>Jaipur</th>\n",
              "      <th>Kolkata</th>\n",
              "      <th>Lucknow</th>\n",
              "      <th>Mumbai</th>\n",
              "      <th>Other</th>\n",
              "    </tr>\n",
              "  </thead>\n",
              "  <tbody>\n",
              "    <tr>\n",
              "      <th>1/2/2015</th>\n",
              "      <td>9384</td>\n",
              "      <td>16644</td>\n",
              "      <td>19544</td>\n",
              "      <td>16832</td>\n",
              "      <td>13588</td>\n",
              "      <td>13000</td>\n",
              "      <td>13948</td>\n",
              "      <td>12308</td>\n",
              "      <td>19284</td>\n",
              "      <td>8572</td>\n",
              "    </tr>\n",
              "    <tr>\n",
              "      <th>1/3/2015</th>\n",
              "      <td>6808</td>\n",
              "      <td>14640</td>\n",
              "      <td>13752</td>\n",
              "      <td>13256</td>\n",
              "      <td>11548</td>\n",
              "      <td>11616</td>\n",
              "      <td>12104</td>\n",
              "      <td>9228</td>\n",
              "      <td>14472</td>\n",
              "      <td>7180</td>\n",
              "    </tr>\n",
              "    <tr>\n",
              "      <th>1/4/2015</th>\n",
              "      <td>8064</td>\n",
              "      <td>15660</td>\n",
              "      <td>13736</td>\n",
              "      <td>14520</td>\n",
              "      <td>11600</td>\n",
              "      <td>11848</td>\n",
              "      <td>12752</td>\n",
              "      <td>10792</td>\n",
              "      <td>16676</td>\n",
              "      <td>6716</td>\n",
              "    </tr>\n",
              "    <tr>\n",
              "      <th>1/5/2015</th>\n",
              "      <td>10248</td>\n",
              "      <td>19056</td>\n",
              "      <td>19740</td>\n",
              "      <td>17324</td>\n",
              "      <td>16336</td>\n",
              "      <td>12240</td>\n",
              "      <td>14492</td>\n",
              "      <td>13836</td>\n",
              "      <td>19684</td>\n",
              "      <td>8616</td>\n",
              "    </tr>\n",
              "    <tr>\n",
              "      <th>1/6/2015</th>\n",
              "      <td>11180</td>\n",
              "      <td>19740</td>\n",
              "      <td>21604</td>\n",
              "      <td>17672</td>\n",
              "      <td>18364</td>\n",
              "      <td>10992</td>\n",
              "      <td>14360</td>\n",
              "      <td>13188</td>\n",
              "      <td>19700</td>\n",
              "      <td>9252</td>\n",
              "    </tr>\n",
              "  </tbody>\n",
              "</table>\n",
              "</div>"
            ],
            "text/plain": [
              "city     Ahmedabad Bangalore Chennai  Delhi  ... Kolkata Lucknow Mumbai Other\n",
              "1/2/2015      9384     16644   19544  16832  ...   13948   12308  19284  8572\n",
              "1/3/2015      6808     14640   13752  13256  ...   12104    9228  14472  7180\n",
              "1/4/2015      8064     15660   13736  14520  ...   12752   10792  16676  6716\n",
              "1/5/2015     10248     19056   19740  17324  ...   14492   13836  19684  8616\n",
              "1/6/2015     11180     19740   21604  17672  ...   14360   13188  19700  9252\n",
              "\n",
              "[5 rows x 10 columns]"
            ]
          },
          "metadata": {
            "tags": []
          },
          "execution_count": 17
        }
      ]
    },
    {
      "cell_type": "markdown",
      "metadata": {
        "id": "wZLXYHnGcSzm"
      },
      "source": [
        "\n",
        "\n",
        "> Now we check for the City which has the null values\n",
        "\n"
      ]
    },
    {
      "cell_type": "code",
      "metadata": {
        "id": "sokCxAr-PtpT",
        "colab": {
          "base_uri": "https://localhost:8080/",
          "height": 34
        },
        "outputId": "fe479f24-f626-4229-cd3c-96eb3a16902f"
      },
      "source": [
        "# looping through the columns in footfall dataset to get the cities with missing footfall data\n",
        "city_with_na=[city for city in foot_fall_transposed.columns if foot_fall_transposed[city].isnull().sum()>0]\n",
        "print(\" City with nulls in the footfall dataset :\", city_with_na )"
      ],
      "execution_count": null,
      "outputs": [
        {
          "output_type": "stream",
          "text": [
            " City with nulls in the footfall dataset : ['Jaipur', 'Kolkata', 'Other']\n"
          ],
          "name": "stdout"
        }
      ]
    },
    {
      "cell_type": "markdown",
      "metadata": {
        "id": "SCPk0iFqcG_Z"
      },
      "source": [
        "Let's define a function and pass the footfall dataframe with the cities with missing footfall and fill the missing information with the median footfall of that city!"
      ]
    },
    {
      "cell_type": "code",
      "metadata": {
        "id": "_ZHKGvxxPtw4",
        "colab": {
          "base_uri": "https://localhost:8080/",
          "height": 353
        },
        "outputId": "5ade88fd-6157-4035-eb7b-bcf0ac01b323"
      },
      "source": [
        "# defining a function to replace missing values by the median footfall for that city\n",
        "def replace_missing_footfall(dataset,features_nan):\n",
        "    data=dataset.copy()\n",
        "    data[features_nan]=data[features_nan].fillna(data[features_nan].median())\n",
        "    return data\n",
        "\n",
        "\n",
        "footfall_data = replace_missing_footfall(foot_fall_transposed,city_with_na)\n",
        "print(footfall_data.head())\n",
        "print(footfall_data.isnull().sum())"
      ],
      "execution_count": null,
      "outputs": [
        {
          "output_type": "stream",
          "text": [
            "city     Ahmedabad Bangalore Chennai  Delhi  ...  Kolkata  Lucknow  Mumbai   Other\n",
            "1/2/2015      9384     16644   19544  16832  ...  13948.0    12308   19284  8572.0\n",
            "1/3/2015      6808     14640   13752  13256  ...  12104.0     9228   14472  7180.0\n",
            "1/4/2015      8064     15660   13736  14520  ...  12752.0    10792   16676  6716.0\n",
            "1/5/2015     10248     19056   19740  17324  ...  14492.0    13836   19684  8616.0\n",
            "1/6/2015     11180     19740   21604  17672  ...  14360.0    13188   19700  9252.0\n",
            "\n",
            "[5 rows x 10 columns]\n",
            "city\n",
            "Ahmedabad    0\n",
            "Bangalore    0\n",
            "Chennai      0\n",
            "Delhi        0\n",
            "Hyderabad    0\n",
            "Jaipur       0\n",
            "Kolkata      0\n",
            "Lucknow      0\n",
            "Mumbai       0\n",
            "Other        0\n",
            "dtype: int64\n"
          ],
          "name": "stdout"
        }
      ]
    },
    {
      "cell_type": "code",
      "metadata": {
        "id": "oTsZCH9R1KIZ",
        "colab": {
          "base_uri": "https://localhost:8080/",
          "height": 195
        },
        "outputId": "d7ed400f-8872-4d6d-c618-3a3458ace912"
      },
      "source": [
        "# renaming columns using the rename function\n",
        "footfall_data.rename(columns = {'Ahmedabad': 9,\n",
        "  'Bangalore': 7,\n",
        "  'Chennai': 6,\n",
        "  'Delhi': 5,\n",
        "  'Hyderabad': 8,\n",
        "  'Jaipur': 3,\n",
        "  'Kolkata': 1,\n",
        "  'Lucknow': 10,\n",
        "  'Mumbai': 4,\n",
        "  'Other': 2}, inplace = True )\n",
        "\n",
        "\n",
        "footfall_data['date'] = footfall_data.index\n",
        "footfall_data.head()"
      ],
      "execution_count": null,
      "outputs": [
        {
          "output_type": "execute_result",
          "data": {
            "text/html": [
              "<div>\n",
              "<style scoped>\n",
              "    .dataframe tbody tr th:only-of-type {\n",
              "        vertical-align: middle;\n",
              "    }\n",
              "\n",
              "    .dataframe tbody tr th {\n",
              "        vertical-align: top;\n",
              "    }\n",
              "\n",
              "    .dataframe thead th {\n",
              "        text-align: right;\n",
              "    }\n",
              "</style>\n",
              "<table border=\"1\" class=\"dataframe\">\n",
              "  <thead>\n",
              "    <tr style=\"text-align: right;\">\n",
              "      <th>city</th>\n",
              "      <th>9</th>\n",
              "      <th>7</th>\n",
              "      <th>6</th>\n",
              "      <th>5</th>\n",
              "      <th>8</th>\n",
              "      <th>3</th>\n",
              "      <th>1</th>\n",
              "      <th>10</th>\n",
              "      <th>4</th>\n",
              "      <th>2</th>\n",
              "      <th>date</th>\n",
              "    </tr>\n",
              "  </thead>\n",
              "  <tbody>\n",
              "    <tr>\n",
              "      <th>1/2/2015</th>\n",
              "      <td>9384</td>\n",
              "      <td>16644</td>\n",
              "      <td>19544</td>\n",
              "      <td>16832</td>\n",
              "      <td>13588</td>\n",
              "      <td>13000.0</td>\n",
              "      <td>13948.0</td>\n",
              "      <td>12308</td>\n",
              "      <td>19284</td>\n",
              "      <td>8572.0</td>\n",
              "      <td>1/2/2015</td>\n",
              "    </tr>\n",
              "    <tr>\n",
              "      <th>1/3/2015</th>\n",
              "      <td>6808</td>\n",
              "      <td>14640</td>\n",
              "      <td>13752</td>\n",
              "      <td>13256</td>\n",
              "      <td>11548</td>\n",
              "      <td>11616.0</td>\n",
              "      <td>12104.0</td>\n",
              "      <td>9228</td>\n",
              "      <td>14472</td>\n",
              "      <td>7180.0</td>\n",
              "      <td>1/3/2015</td>\n",
              "    </tr>\n",
              "    <tr>\n",
              "      <th>1/4/2015</th>\n",
              "      <td>8064</td>\n",
              "      <td>15660</td>\n",
              "      <td>13736</td>\n",
              "      <td>14520</td>\n",
              "      <td>11600</td>\n",
              "      <td>11848.0</td>\n",
              "      <td>12752.0</td>\n",
              "      <td>10792</td>\n",
              "      <td>16676</td>\n",
              "      <td>6716.0</td>\n",
              "      <td>1/4/2015</td>\n",
              "    </tr>\n",
              "    <tr>\n",
              "      <th>1/5/2015</th>\n",
              "      <td>10248</td>\n",
              "      <td>19056</td>\n",
              "      <td>19740</td>\n",
              "      <td>17324</td>\n",
              "      <td>16336</td>\n",
              "      <td>12240.0</td>\n",
              "      <td>14492.0</td>\n",
              "      <td>13836</td>\n",
              "      <td>19684</td>\n",
              "      <td>8616.0</td>\n",
              "      <td>1/5/2015</td>\n",
              "    </tr>\n",
              "    <tr>\n",
              "      <th>1/6/2015</th>\n",
              "      <td>11180</td>\n",
              "      <td>19740</td>\n",
              "      <td>21604</td>\n",
              "      <td>17672</td>\n",
              "      <td>18364</td>\n",
              "      <td>10992.0</td>\n",
              "      <td>14360.0</td>\n",
              "      <td>13188</td>\n",
              "      <td>19700</td>\n",
              "      <td>9252.0</td>\n",
              "      <td>1/6/2015</td>\n",
              "    </tr>\n",
              "  </tbody>\n",
              "</table>\n",
              "</div>"
            ],
            "text/plain": [
              "city          9      7      6      5  ...     10      4       2      date\n",
              "1/2/2015   9384  16644  19544  16832  ...  12308  19284  8572.0  1/2/2015\n",
              "1/3/2015   6808  14640  13752  13256  ...   9228  14472  7180.0  1/3/2015\n",
              "1/4/2015   8064  15660  13736  14520  ...  10792  16676  6716.0  1/4/2015\n",
              "1/5/2015  10248  19056  19740  17324  ...  13836  19684  8616.0  1/5/2015\n",
              "1/6/2015  11180  19740  21604  17672  ...  13188  19700  9252.0  1/6/2015\n",
              "\n",
              "[5 rows x 11 columns]"
            ]
          },
          "metadata": {
            "tags": []
          },
          "execution_count": 20
        }
      ]
    },
    {
      "cell_type": "markdown",
      "metadata": {
        "id": "nFENXHIzBNjF"
      },
      "source": [
        "###Let's pivot down the footfall data as well to get it at the grain of Test and Sales data"
      ]
    },
    {
      "cell_type": "code",
      "metadata": {
        "id": "vRd5N2x3BM73",
        "colab": {
          "base_uri": "https://localhost:8080/",
          "height": 195
        },
        "outputId": "f354782e-45a6-4725-d5a5-3e500632f574"
      },
      "source": [
        "footfall_pivotdown= footfall_data.melt(id_vars=['date'], var_name='City_Code', value_name='foot_fall')\n",
        "# coverting the date to datetime format\n",
        "footfall_pivotdown['date'] = pd.to_datetime(footfall_pivotdown['date'])\n",
        "footfall_pivotdown.head()"
      ],
      "execution_count": null,
      "outputs": [
        {
          "output_type": "execute_result",
          "data": {
            "text/html": [
              "<div>\n",
              "<style scoped>\n",
              "    .dataframe tbody tr th:only-of-type {\n",
              "        vertical-align: middle;\n",
              "    }\n",
              "\n",
              "    .dataframe tbody tr th {\n",
              "        vertical-align: top;\n",
              "    }\n",
              "\n",
              "    .dataframe thead th {\n",
              "        text-align: right;\n",
              "    }\n",
              "</style>\n",
              "<table border=\"1\" class=\"dataframe\">\n",
              "  <thead>\n",
              "    <tr style=\"text-align: right;\">\n",
              "      <th></th>\n",
              "      <th>date</th>\n",
              "      <th>City_Code</th>\n",
              "      <th>foot_fall</th>\n",
              "    </tr>\n",
              "  </thead>\n",
              "  <tbody>\n",
              "    <tr>\n",
              "      <th>0</th>\n",
              "      <td>2015-01-02</td>\n",
              "      <td>9</td>\n",
              "      <td>9384</td>\n",
              "    </tr>\n",
              "    <tr>\n",
              "      <th>1</th>\n",
              "      <td>2015-01-03</td>\n",
              "      <td>9</td>\n",
              "      <td>6808</td>\n",
              "    </tr>\n",
              "    <tr>\n",
              "      <th>2</th>\n",
              "      <td>2015-01-04</td>\n",
              "      <td>9</td>\n",
              "      <td>8064</td>\n",
              "    </tr>\n",
              "    <tr>\n",
              "      <th>3</th>\n",
              "      <td>2015-01-05</td>\n",
              "      <td>9</td>\n",
              "      <td>10248</td>\n",
              "    </tr>\n",
              "    <tr>\n",
              "      <th>4</th>\n",
              "      <td>2015-01-06</td>\n",
              "      <td>9</td>\n",
              "      <td>11180</td>\n",
              "    </tr>\n",
              "  </tbody>\n",
              "</table>\n",
              "</div>"
            ],
            "text/plain": [
              "        date City_Code foot_fall\n",
              "0 2015-01-02         9      9384\n",
              "1 2015-01-03         9      6808\n",
              "2 2015-01-04         9      8064\n",
              "3 2015-01-05         9     10248\n",
              "4 2015-01-06         9     11180"
            ]
          },
          "metadata": {
            "tags": []
          },
          "execution_count": 21
        }
      ]
    },
    {
      "cell_type": "markdown",
      "metadata": {
        "id": "mfwYqr9ff-eC"
      },
      "source": [
        "## Exploring the Product Information file\n",
        "\n",
        "\n",
        "> \n",
        "\n"
      ]
    },
    {
      "cell_type": "code",
      "metadata": {
        "id": "Rxl01Hx3Pt06",
        "colab": {
          "base_uri": "https://localhost:8080/",
          "height": 195
        },
        "outputId": "0c1fcfaa-eb39-4d6e-e6c0-6a525e31542b"
      },
      "source": [
        "product_information.head()"
      ],
      "execution_count": null,
      "outputs": [
        {
          "output_type": "execute_result",
          "data": {
            "text/html": [
              "<div>\n",
              "<style scoped>\n",
              "    .dataframe tbody tr th:only-of-type {\n",
              "        vertical-align: middle;\n",
              "    }\n",
              "\n",
              "    .dataframe tbody tr th {\n",
              "        vertical-align: top;\n",
              "    }\n",
              "\n",
              "    .dataframe thead th {\n",
              "        text-align: right;\n",
              "    }\n",
              "</style>\n",
              "<table border=\"1\" class=\"dataframe\">\n",
              "  <thead>\n",
              "    <tr style=\"text-align: right;\">\n",
              "      <th></th>\n",
              "      <th>product</th>\n",
              "      <th>product_category</th>\n",
              "      <th>product_subcategory</th>\n",
              "      <th>var_1</th>\n",
              "      <th>var_2</th>\n",
              "      <th>var_3</th>\n",
              "      <th>var_4</th>\n",
              "      <th>var_5</th>\n",
              "      <th>var_6</th>\n",
              "      <th>var_7</th>\n",
              "      <th>var_8</th>\n",
              "      <th>var_9</th>\n",
              "      <th>var_10</th>\n",
              "    </tr>\n",
              "  </thead>\n",
              "  <tbody>\n",
              "    <tr>\n",
              "      <th>0</th>\n",
              "      <td>1</td>\n",
              "      <td>Cat_753</td>\n",
              "      <td>SubCat_3077</td>\n",
              "      <td>0.715514</td>\n",
              "      <td>0.299219</td>\n",
              "      <td>0.381067</td>\n",
              "      <td>0.0003</td>\n",
              "      <td>0.363847</td>\n",
              "      <td>0.300629</td>\n",
              "      <td>0.08</td>\n",
              "      <td>0.416806</td>\n",
              "      <td>1.171543</td>\n",
              "      <td>0.668805</td>\n",
              "    </tr>\n",
              "    <tr>\n",
              "      <th>1</th>\n",
              "      <td>2</td>\n",
              "      <td>Cat_643</td>\n",
              "      <td>SubCat_3774</td>\n",
              "      <td>0.075851</td>\n",
              "      <td>0.298774</td>\n",
              "      <td>0.852691</td>\n",
              "      <td>0.0003</td>\n",
              "      <td>0.409503</td>\n",
              "      <td>0.465912</td>\n",
              "      <td>0.08</td>\n",
              "      <td>0.545467</td>\n",
              "      <td>0.541547</td>\n",
              "      <td>0.401800</td>\n",
              "    </tr>\n",
              "    <tr>\n",
              "      <th>2</th>\n",
              "      <td>3</td>\n",
              "      <td>Cat_2804</td>\n",
              "      <td>SubCat_7454</td>\n",
              "      <td>0.285910</td>\n",
              "      <td>0.308168</td>\n",
              "      <td>0.531137</td>\n",
              "      <td>0.0003</td>\n",
              "      <td>0.168459</td>\n",
              "      <td>0.517364</td>\n",
              "      <td>0.08</td>\n",
              "      <td>0.521452</td>\n",
              "      <td>0.945024</td>\n",
              "      <td>0.631538</td>\n",
              "    </tr>\n",
              "    <tr>\n",
              "      <th>3</th>\n",
              "      <td>4</td>\n",
              "      <td>Cat_71</td>\n",
              "      <td>SubCat_5</td>\n",
              "      <td>0.544437</td>\n",
              "      <td>0.281760</td>\n",
              "      <td>0.530937</td>\n",
              "      <td>0.0003</td>\n",
              "      <td>0.291839</td>\n",
              "      <td>0.302639</td>\n",
              "      <td>0.08</td>\n",
              "      <td>0.519929</td>\n",
              "      <td>0.635492</td>\n",
              "      <td>0.991901</td>\n",
              "    </tr>\n",
              "    <tr>\n",
              "      <th>4</th>\n",
              "      <td>5</td>\n",
              "      <td>Cat_1556</td>\n",
              "      <td>SubCat_9403</td>\n",
              "      <td>0.852752</td>\n",
              "      <td>0.301493</td>\n",
              "      <td>0.343009</td>\n",
              "      <td>0.0003</td>\n",
              "      <td>0.286037</td>\n",
              "      <td>0.822326</td>\n",
              "      <td>0.08</td>\n",
              "      <td>0.462138</td>\n",
              "      <td>0.574709</td>\n",
              "      <td>0.792799</td>\n",
              "    </tr>\n",
              "  </tbody>\n",
              "</table>\n",
              "</div>"
            ],
            "text/plain": [
              "   product product_category product_subcategory  ...     var_8     var_9    var_10\n",
              "0        1          Cat_753         SubCat_3077  ...  0.416806  1.171543  0.668805\n",
              "1        2          Cat_643         SubCat_3774  ...  0.545467  0.541547  0.401800\n",
              "2        3         Cat_2804         SubCat_7454  ...  0.521452  0.945024  0.631538\n",
              "3        4           Cat_71            SubCat_5  ...  0.519929  0.635492  0.991901\n",
              "4        5         Cat_1556         SubCat_9403  ...  0.462138  0.574709  0.792799\n",
              "\n",
              "[5 rows x 13 columns]"
            ]
          },
          "metadata": {
            "tags": []
          },
          "execution_count": 22
        }
      ]
    },
    {
      "cell_type": "code",
      "metadata": {
        "id": "itLdIyTyPtvK",
        "colab": {
          "base_uri": "https://localhost:8080/",
          "height": 252
        },
        "outputId": "871ab837-6852-44ad-be98-52408f6c3c4d"
      },
      "source": [
        "product_information.isnull().sum()"
      ],
      "execution_count": null,
      "outputs": [
        {
          "output_type": "execute_result",
          "data": {
            "text/plain": [
              "product                0\n",
              "product_category       0\n",
              "product_subcategory    0\n",
              "var_1                  0\n",
              "var_2                  0\n",
              "var_3                  0\n",
              "var_4                  0\n",
              "var_5                  0\n",
              "var_6                  0\n",
              "var_7                  0\n",
              "var_8                  0\n",
              "var_9                  0\n",
              "var_10                 0\n",
              "dtype: int64"
            ]
          },
          "metadata": {
            "tags": []
          },
          "execution_count": 23
        }
      ]
    },
    {
      "cell_type": "markdown",
      "metadata": {
        "id": "zLbVKfAFaS9L"
      },
      "source": [
        "#Final tables for joining to get a final master table\n",
        "\n",
        "\n",
        "> Sales - yearly_sales\n",
        "\n",
        "\n",
        "> Discount - hist_disc_pivotdown; hist_disc_pivotdown\n",
        "\n",
        "\n",
        "> Footfall - footfall_pivotdown\n",
        "\n",
        "\n",
        "\n",
        "> product_information\n",
        "\n",
        "\n",
        "\n",
        "\n",
        "\n",
        "\n"
      ]
    },
    {
      "cell_type": "code",
      "metadata": {
        "id": "T1u7Ds_XaR6G",
        "colab": {
          "base_uri": "https://localhost:8080/",
          "height": 202
        },
        "outputId": "3ea1a3ff-2683-456b-862e-4bcbe35c4034"
      },
      "source": [
        "print(yearly_sales.head())\n",
        "yearly_sales.dtypes"
      ],
      "execution_count": null,
      "outputs": [
        {
          "output_type": "stream",
          "text": [
            "        date  city  product  sales\n",
            "0 2017-01-02     1        1   28.0\n",
            "1 2017-01-02     1        2   72.0\n",
            "2 2017-01-02     1        3  128.0\n",
            "3 2017-01-02     1        4   20.0\n",
            "4 2017-01-02     1        5    4.0\n"
          ],
          "name": "stdout"
        },
        {
          "output_type": "execute_result",
          "data": {
            "text/plain": [
              "date       datetime64[ns]\n",
              "city                int64\n",
              "product             int64\n",
              "sales             float64\n",
              "dtype: object"
            ]
          },
          "metadata": {
            "tags": []
          },
          "execution_count": 24
        }
      ]
    },
    {
      "cell_type": "code",
      "metadata": {
        "id": "bcQYVvmzPttJ",
        "colab": {
          "base_uri": "https://localhost:8080/",
          "height": 202
        },
        "outputId": "4bace062-4b4d-49aa-94e2-87b9f6f6aca8"
      },
      "source": [
        "print(hist_disc_pivotdown.head())\n",
        "\n",
        "hist_disc_pivotdown = hist_disc_pivotdown.astype({'City_Code':'int64'})\n",
        "expec_disc_pivotdown = expec_disc_pivotdown.astype({'City_Code':'int64'})\n",
        "hist_disc_pivotdown.dtypes"
      ],
      "execution_count": null,
      "outputs": [
        {
          "output_type": "stream",
          "text": [
            "        date  product City_Code  Discount\n",
            "0 2016-04-29       45         9       0.0\n",
            "1 2016-04-29      255         9       0.0\n",
            "2 2016-04-29      316         9       0.0\n",
            "3 2016-04-29      594         9       0.0\n",
            "4 2016-04-29      664         9       0.0\n"
          ],
          "name": "stdout"
        },
        {
          "output_type": "execute_result",
          "data": {
            "text/plain": [
              "date         datetime64[ns]\n",
              "product               int64\n",
              "City_Code             int64\n",
              "Discount            float64\n",
              "dtype: object"
            ]
          },
          "metadata": {
            "tags": []
          },
          "execution_count": 25
        }
      ]
    },
    {
      "cell_type": "code",
      "metadata": {
        "id": "Djyk3CPNeox5",
        "colab": {
          "base_uri": "https://localhost:8080/",
          "height": 195
        },
        "outputId": "cf297494-cd27-4d8c-a06c-164efa9c197a"
      },
      "source": [
        "#merging sales and discount tables\n",
        "df_sales_discount = yearly_sales.merge(hist_disc_pivotdown,how ='left',left_on = ['date','city','product'],\n",
        "                                       right_on = ['date','City_Code','product'],suffixes = ('_sales','_disc'))\n",
        "\n",
        "df_sales_discount.head()\n"
      ],
      "execution_count": null,
      "outputs": [
        {
          "output_type": "execute_result",
          "data": {
            "text/html": [
              "<div>\n",
              "<style scoped>\n",
              "    .dataframe tbody tr th:only-of-type {\n",
              "        vertical-align: middle;\n",
              "    }\n",
              "\n",
              "    .dataframe tbody tr th {\n",
              "        vertical-align: top;\n",
              "    }\n",
              "\n",
              "    .dataframe thead th {\n",
              "        text-align: right;\n",
              "    }\n",
              "</style>\n",
              "<table border=\"1\" class=\"dataframe\">\n",
              "  <thead>\n",
              "    <tr style=\"text-align: right;\">\n",
              "      <th></th>\n",
              "      <th>date</th>\n",
              "      <th>city</th>\n",
              "      <th>product</th>\n",
              "      <th>sales</th>\n",
              "      <th>City_Code</th>\n",
              "      <th>Discount</th>\n",
              "    </tr>\n",
              "  </thead>\n",
              "  <tbody>\n",
              "    <tr>\n",
              "      <th>0</th>\n",
              "      <td>2017-01-02</td>\n",
              "      <td>1</td>\n",
              "      <td>1</td>\n",
              "      <td>28.0</td>\n",
              "      <td>1.0</td>\n",
              "      <td>1.0</td>\n",
              "    </tr>\n",
              "    <tr>\n",
              "      <th>1</th>\n",
              "      <td>2017-01-02</td>\n",
              "      <td>1</td>\n",
              "      <td>2</td>\n",
              "      <td>72.0</td>\n",
              "      <td>NaN</td>\n",
              "      <td>NaN</td>\n",
              "    </tr>\n",
              "    <tr>\n",
              "      <th>2</th>\n",
              "      <td>2017-01-02</td>\n",
              "      <td>1</td>\n",
              "      <td>3</td>\n",
              "      <td>128.0</td>\n",
              "      <td>NaN</td>\n",
              "      <td>NaN</td>\n",
              "    </tr>\n",
              "    <tr>\n",
              "      <th>3</th>\n",
              "      <td>2017-01-02</td>\n",
              "      <td>1</td>\n",
              "      <td>4</td>\n",
              "      <td>20.0</td>\n",
              "      <td>NaN</td>\n",
              "      <td>NaN</td>\n",
              "    </tr>\n",
              "    <tr>\n",
              "      <th>4</th>\n",
              "      <td>2017-01-02</td>\n",
              "      <td>1</td>\n",
              "      <td>5</td>\n",
              "      <td>4.0</td>\n",
              "      <td>1.0</td>\n",
              "      <td>0.0</td>\n",
              "    </tr>\n",
              "  </tbody>\n",
              "</table>\n",
              "</div>"
            ],
            "text/plain": [
              "        date  city  product  sales  City_Code  Discount\n",
              "0 2017-01-02     1        1   28.0        1.0       1.0\n",
              "1 2017-01-02     1        2   72.0        NaN       NaN\n",
              "2 2017-01-02     1        3  128.0        NaN       NaN\n",
              "3 2017-01-02     1        4   20.0        NaN       NaN\n",
              "4 2017-01-02     1        5    4.0        1.0       0.0"
            ]
          },
          "metadata": {
            "tags": []
          },
          "execution_count": 26
        }
      ]
    },
    {
      "cell_type": "code",
      "metadata": {
        "id": "jNm6MP4JtOdJ",
        "colab": {
          "base_uri": "https://localhost:8080/",
          "height": 185
        },
        "outputId": "28b0a769-dcbd-4f6c-9146-a696881d6cfb"
      },
      "source": [
        "print(footfall_pivotdown.head())\n",
        "footfall_pivotdown = footfall_pivotdown.astype({'City_Code':'int64','foot_fall':'int64'})\n",
        "footfall_pivotdown.dtypes"
      ],
      "execution_count": null,
      "outputs": [
        {
          "output_type": "stream",
          "text": [
            "        date City_Code foot_fall\n",
            "0 2015-01-02         9      9384\n",
            "1 2015-01-03         9      6808\n",
            "2 2015-01-04         9      8064\n",
            "3 2015-01-05         9     10248\n",
            "4 2015-01-06         9     11180\n"
          ],
          "name": "stdout"
        },
        {
          "output_type": "execute_result",
          "data": {
            "text/plain": [
              "date         datetime64[ns]\n",
              "City_Code             int64\n",
              "foot_fall             int64\n",
              "dtype: object"
            ]
          },
          "metadata": {
            "tags": []
          },
          "execution_count": 27
        }
      ]
    },
    {
      "cell_type": "code",
      "metadata": {
        "id": "7Qws_GOEPtnT",
        "colab": {
          "base_uri": "https://localhost:8080/",
          "height": 195
        },
        "outputId": "01396770-77d2-49f4-b7ab-cf3177b51686"
      },
      "source": [
        "product_information.head()"
      ],
      "execution_count": null,
      "outputs": [
        {
          "output_type": "execute_result",
          "data": {
            "text/html": [
              "<div>\n",
              "<style scoped>\n",
              "    .dataframe tbody tr th:only-of-type {\n",
              "        vertical-align: middle;\n",
              "    }\n",
              "\n",
              "    .dataframe tbody tr th {\n",
              "        vertical-align: top;\n",
              "    }\n",
              "\n",
              "    .dataframe thead th {\n",
              "        text-align: right;\n",
              "    }\n",
              "</style>\n",
              "<table border=\"1\" class=\"dataframe\">\n",
              "  <thead>\n",
              "    <tr style=\"text-align: right;\">\n",
              "      <th></th>\n",
              "      <th>product</th>\n",
              "      <th>product_category</th>\n",
              "      <th>product_subcategory</th>\n",
              "      <th>var_1</th>\n",
              "      <th>var_2</th>\n",
              "      <th>var_3</th>\n",
              "      <th>var_4</th>\n",
              "      <th>var_5</th>\n",
              "      <th>var_6</th>\n",
              "      <th>var_7</th>\n",
              "      <th>var_8</th>\n",
              "      <th>var_9</th>\n",
              "      <th>var_10</th>\n",
              "    </tr>\n",
              "  </thead>\n",
              "  <tbody>\n",
              "    <tr>\n",
              "      <th>0</th>\n",
              "      <td>1</td>\n",
              "      <td>Cat_753</td>\n",
              "      <td>SubCat_3077</td>\n",
              "      <td>0.715514</td>\n",
              "      <td>0.299219</td>\n",
              "      <td>0.381067</td>\n",
              "      <td>0.0003</td>\n",
              "      <td>0.363847</td>\n",
              "      <td>0.300629</td>\n",
              "      <td>0.08</td>\n",
              "      <td>0.416806</td>\n",
              "      <td>1.171543</td>\n",
              "      <td>0.668805</td>\n",
              "    </tr>\n",
              "    <tr>\n",
              "      <th>1</th>\n",
              "      <td>2</td>\n",
              "      <td>Cat_643</td>\n",
              "      <td>SubCat_3774</td>\n",
              "      <td>0.075851</td>\n",
              "      <td>0.298774</td>\n",
              "      <td>0.852691</td>\n",
              "      <td>0.0003</td>\n",
              "      <td>0.409503</td>\n",
              "      <td>0.465912</td>\n",
              "      <td>0.08</td>\n",
              "      <td>0.545467</td>\n",
              "      <td>0.541547</td>\n",
              "      <td>0.401800</td>\n",
              "    </tr>\n",
              "    <tr>\n",
              "      <th>2</th>\n",
              "      <td>3</td>\n",
              "      <td>Cat_2804</td>\n",
              "      <td>SubCat_7454</td>\n",
              "      <td>0.285910</td>\n",
              "      <td>0.308168</td>\n",
              "      <td>0.531137</td>\n",
              "      <td>0.0003</td>\n",
              "      <td>0.168459</td>\n",
              "      <td>0.517364</td>\n",
              "      <td>0.08</td>\n",
              "      <td>0.521452</td>\n",
              "      <td>0.945024</td>\n",
              "      <td>0.631538</td>\n",
              "    </tr>\n",
              "    <tr>\n",
              "      <th>3</th>\n",
              "      <td>4</td>\n",
              "      <td>Cat_71</td>\n",
              "      <td>SubCat_5</td>\n",
              "      <td>0.544437</td>\n",
              "      <td>0.281760</td>\n",
              "      <td>0.530937</td>\n",
              "      <td>0.0003</td>\n",
              "      <td>0.291839</td>\n",
              "      <td>0.302639</td>\n",
              "      <td>0.08</td>\n",
              "      <td>0.519929</td>\n",
              "      <td>0.635492</td>\n",
              "      <td>0.991901</td>\n",
              "    </tr>\n",
              "    <tr>\n",
              "      <th>4</th>\n",
              "      <td>5</td>\n",
              "      <td>Cat_1556</td>\n",
              "      <td>SubCat_9403</td>\n",
              "      <td>0.852752</td>\n",
              "      <td>0.301493</td>\n",
              "      <td>0.343009</td>\n",
              "      <td>0.0003</td>\n",
              "      <td>0.286037</td>\n",
              "      <td>0.822326</td>\n",
              "      <td>0.08</td>\n",
              "      <td>0.462138</td>\n",
              "      <td>0.574709</td>\n",
              "      <td>0.792799</td>\n",
              "    </tr>\n",
              "  </tbody>\n",
              "</table>\n",
              "</div>"
            ],
            "text/plain": [
              "   product product_category product_subcategory  ...     var_8     var_9    var_10\n",
              "0        1          Cat_753         SubCat_3077  ...  0.416806  1.171543  0.668805\n",
              "1        2          Cat_643         SubCat_3774  ...  0.545467  0.541547  0.401800\n",
              "2        3         Cat_2804         SubCat_7454  ...  0.521452  0.945024  0.631538\n",
              "3        4           Cat_71            SubCat_5  ...  0.519929  0.635492  0.991901\n",
              "4        5         Cat_1556         SubCat_9403  ...  0.462138  0.574709  0.792799\n",
              "\n",
              "[5 rows x 13 columns]"
            ]
          },
          "metadata": {
            "tags": []
          },
          "execution_count": 28
        }
      ]
    },
    {
      "cell_type": "code",
      "metadata": {
        "id": "KeZbbiDnloAT",
        "colab": {
          "base_uri": "https://localhost:8080/",
          "height": 195
        },
        "outputId": "c9d914b8-d56e-4b63-83b5-13a14e81c724"
      },
      "source": [
        "df_sales_disc_footfall = df_sales_discount.merge(footfall_pivotdown,how ='left',left_on = ['date','city'],\n",
        "                                       right_on = ['date','City_Code'],suffixes = ('_sales','_ffall'))\n",
        "df_sales_disc_footfall.head()"
      ],
      "execution_count": null,
      "outputs": [
        {
          "output_type": "execute_result",
          "data": {
            "text/html": [
              "<div>\n",
              "<style scoped>\n",
              "    .dataframe tbody tr th:only-of-type {\n",
              "        vertical-align: middle;\n",
              "    }\n",
              "\n",
              "    .dataframe tbody tr th {\n",
              "        vertical-align: top;\n",
              "    }\n",
              "\n",
              "    .dataframe thead th {\n",
              "        text-align: right;\n",
              "    }\n",
              "</style>\n",
              "<table border=\"1\" class=\"dataframe\">\n",
              "  <thead>\n",
              "    <tr style=\"text-align: right;\">\n",
              "      <th></th>\n",
              "      <th>date</th>\n",
              "      <th>city</th>\n",
              "      <th>product</th>\n",
              "      <th>sales</th>\n",
              "      <th>City_Code_sales</th>\n",
              "      <th>Discount</th>\n",
              "      <th>City_Code_ffall</th>\n",
              "      <th>foot_fall</th>\n",
              "    </tr>\n",
              "  </thead>\n",
              "  <tbody>\n",
              "    <tr>\n",
              "      <th>0</th>\n",
              "      <td>2017-01-02</td>\n",
              "      <td>1</td>\n",
              "      <td>1</td>\n",
              "      <td>28.0</td>\n",
              "      <td>1.0</td>\n",
              "      <td>1.0</td>\n",
              "      <td>1.0</td>\n",
              "      <td>13716.0</td>\n",
              "    </tr>\n",
              "    <tr>\n",
              "      <th>1</th>\n",
              "      <td>2017-01-02</td>\n",
              "      <td>1</td>\n",
              "      <td>2</td>\n",
              "      <td>72.0</td>\n",
              "      <td>NaN</td>\n",
              "      <td>NaN</td>\n",
              "      <td>1.0</td>\n",
              "      <td>13716.0</td>\n",
              "    </tr>\n",
              "    <tr>\n",
              "      <th>2</th>\n",
              "      <td>2017-01-02</td>\n",
              "      <td>1</td>\n",
              "      <td>3</td>\n",
              "      <td>128.0</td>\n",
              "      <td>NaN</td>\n",
              "      <td>NaN</td>\n",
              "      <td>1.0</td>\n",
              "      <td>13716.0</td>\n",
              "    </tr>\n",
              "    <tr>\n",
              "      <th>3</th>\n",
              "      <td>2017-01-02</td>\n",
              "      <td>1</td>\n",
              "      <td>4</td>\n",
              "      <td>20.0</td>\n",
              "      <td>NaN</td>\n",
              "      <td>NaN</td>\n",
              "      <td>1.0</td>\n",
              "      <td>13716.0</td>\n",
              "    </tr>\n",
              "    <tr>\n",
              "      <th>4</th>\n",
              "      <td>2017-01-02</td>\n",
              "      <td>1</td>\n",
              "      <td>5</td>\n",
              "      <td>4.0</td>\n",
              "      <td>1.0</td>\n",
              "      <td>0.0</td>\n",
              "      <td>1.0</td>\n",
              "      <td>13716.0</td>\n",
              "    </tr>\n",
              "  </tbody>\n",
              "</table>\n",
              "</div>"
            ],
            "text/plain": [
              "        date  city  product  ...  Discount  City_Code_ffall  foot_fall\n",
              "0 2017-01-02     1        1  ...       1.0              1.0    13716.0\n",
              "1 2017-01-02     1        2  ...       NaN              1.0    13716.0\n",
              "2 2017-01-02     1        3  ...       NaN              1.0    13716.0\n",
              "3 2017-01-02     1        4  ...       NaN              1.0    13716.0\n",
              "4 2017-01-02     1        5  ...       0.0              1.0    13716.0\n",
              "\n",
              "[5 rows x 8 columns]"
            ]
          },
          "metadata": {
            "tags": []
          },
          "execution_count": 29
        }
      ]
    },
    {
      "cell_type": "code",
      "metadata": {
        "id": "g5w9HVI0PtmK"
      },
      "source": [
        "sales_master = df_sales_disc_footfall.merge(product_information,how ='left',\n",
        "                                            left_on = 'product', right_on ='product', suffixes = ('_sales','_pinfo'))"
      ],
      "execution_count": null,
      "outputs": []
    },
    {
      "cell_type": "markdown",
      "metadata": {
        "id": "KDJCQ58VxVnP"
      },
      "source": [
        "# EDA (Exploratory data analysis) & Feature engineering\n",
        "\n",
        "This is quite a large dataset with a lot of information. Let's try to dissect the data and get some meaningful information from it "
      ]
    },
    {
      "cell_type": "markdown",
      "metadata": {
        "id": "WmkkxLmfxwQT"
      },
      "source": [
        "### Sales trend by city\n",
        "let's look at the trend of sales by city \n"
      ]
    },
    {
      "cell_type": "code",
      "metadata": {
        "id": "NBeHSfL_PtkC"
      },
      "source": [
        "#replacing discount column Nan by 0 stating that those products did not have any discount on the given day\n",
        "sales_master['Discount'] = sales_master['Discount'].fillna(0)\n",
        "sales_master.drop(['City_Code_sales','City_Code_ffall'],axis = 1, inplace = True)\n"
      ],
      "execution_count": null,
      "outputs": []
    },
    {
      "cell_type": "code",
      "metadata": {
        "id": "ztV2yXdKPtdS",
        "colab": {
          "base_uri": "https://localhost:8080/",
          "height": 299
        },
        "outputId": "38e3b154-f3e5-4bf5-edd1-75f6d89e02a2"
      },
      "source": [
        "sales_master.head()"
      ],
      "execution_count": null,
      "outputs": [
        {
          "output_type": "execute_result",
          "data": {
            "text/html": [
              "<div>\n",
              "<style scoped>\n",
              "    .dataframe tbody tr th:only-of-type {\n",
              "        vertical-align: middle;\n",
              "    }\n",
              "\n",
              "    .dataframe tbody tr th {\n",
              "        vertical-align: top;\n",
              "    }\n",
              "\n",
              "    .dataframe thead th {\n",
              "        text-align: right;\n",
              "    }\n",
              "</style>\n",
              "<table border=\"1\" class=\"dataframe\">\n",
              "  <thead>\n",
              "    <tr style=\"text-align: right;\">\n",
              "      <th></th>\n",
              "      <th>date</th>\n",
              "      <th>city</th>\n",
              "      <th>product</th>\n",
              "      <th>sales</th>\n",
              "      <th>Discount</th>\n",
              "      <th>foot_fall</th>\n",
              "      <th>product_category</th>\n",
              "      <th>product_subcategory</th>\n",
              "      <th>var_1</th>\n",
              "      <th>var_2</th>\n",
              "      <th>var_3</th>\n",
              "      <th>var_4</th>\n",
              "      <th>var_5</th>\n",
              "      <th>var_6</th>\n",
              "      <th>var_7</th>\n",
              "      <th>var_8</th>\n",
              "      <th>var_9</th>\n",
              "      <th>var_10</th>\n",
              "    </tr>\n",
              "  </thead>\n",
              "  <tbody>\n",
              "    <tr>\n",
              "      <th>0</th>\n",
              "      <td>2017-01-02</td>\n",
              "      <td>1</td>\n",
              "      <td>1</td>\n",
              "      <td>28.0</td>\n",
              "      <td>1.0</td>\n",
              "      <td>13716.0</td>\n",
              "      <td>Cat_753</td>\n",
              "      <td>SubCat_3077</td>\n",
              "      <td>0.715514</td>\n",
              "      <td>0.299219</td>\n",
              "      <td>0.381067</td>\n",
              "      <td>0.0003</td>\n",
              "      <td>0.363847</td>\n",
              "      <td>0.300629</td>\n",
              "      <td>0.08</td>\n",
              "      <td>0.416806</td>\n",
              "      <td>1.171543</td>\n",
              "      <td>0.668805</td>\n",
              "    </tr>\n",
              "    <tr>\n",
              "      <th>1</th>\n",
              "      <td>2017-01-02</td>\n",
              "      <td>1</td>\n",
              "      <td>2</td>\n",
              "      <td>72.0</td>\n",
              "      <td>0.0</td>\n",
              "      <td>13716.0</td>\n",
              "      <td>Cat_643</td>\n",
              "      <td>SubCat_3774</td>\n",
              "      <td>0.075851</td>\n",
              "      <td>0.298774</td>\n",
              "      <td>0.852691</td>\n",
              "      <td>0.0003</td>\n",
              "      <td>0.409503</td>\n",
              "      <td>0.465912</td>\n",
              "      <td>0.08</td>\n",
              "      <td>0.545467</td>\n",
              "      <td>0.541547</td>\n",
              "      <td>0.401800</td>\n",
              "    </tr>\n",
              "    <tr>\n",
              "      <th>2</th>\n",
              "      <td>2017-01-02</td>\n",
              "      <td>1</td>\n",
              "      <td>3</td>\n",
              "      <td>128.0</td>\n",
              "      <td>0.0</td>\n",
              "      <td>13716.0</td>\n",
              "      <td>Cat_2804</td>\n",
              "      <td>SubCat_7454</td>\n",
              "      <td>0.285910</td>\n",
              "      <td>0.308168</td>\n",
              "      <td>0.531137</td>\n",
              "      <td>0.0003</td>\n",
              "      <td>0.168459</td>\n",
              "      <td>0.517364</td>\n",
              "      <td>0.08</td>\n",
              "      <td>0.521452</td>\n",
              "      <td>0.945024</td>\n",
              "      <td>0.631538</td>\n",
              "    </tr>\n",
              "    <tr>\n",
              "      <th>3</th>\n",
              "      <td>2017-01-02</td>\n",
              "      <td>1</td>\n",
              "      <td>4</td>\n",
              "      <td>20.0</td>\n",
              "      <td>0.0</td>\n",
              "      <td>13716.0</td>\n",
              "      <td>Cat_71</td>\n",
              "      <td>SubCat_5</td>\n",
              "      <td>0.544437</td>\n",
              "      <td>0.281760</td>\n",
              "      <td>0.530937</td>\n",
              "      <td>0.0003</td>\n",
              "      <td>0.291839</td>\n",
              "      <td>0.302639</td>\n",
              "      <td>0.08</td>\n",
              "      <td>0.519929</td>\n",
              "      <td>0.635492</td>\n",
              "      <td>0.991901</td>\n",
              "    </tr>\n",
              "    <tr>\n",
              "      <th>4</th>\n",
              "      <td>2017-01-02</td>\n",
              "      <td>1</td>\n",
              "      <td>5</td>\n",
              "      <td>4.0</td>\n",
              "      <td>0.0</td>\n",
              "      <td>13716.0</td>\n",
              "      <td>Cat_1556</td>\n",
              "      <td>SubCat_9403</td>\n",
              "      <td>0.852752</td>\n",
              "      <td>0.301493</td>\n",
              "      <td>0.343009</td>\n",
              "      <td>0.0003</td>\n",
              "      <td>0.286037</td>\n",
              "      <td>0.822326</td>\n",
              "      <td>0.08</td>\n",
              "      <td>0.462138</td>\n",
              "      <td>0.574709</td>\n",
              "      <td>0.792799</td>\n",
              "    </tr>\n",
              "  </tbody>\n",
              "</table>\n",
              "</div>"
            ],
            "text/plain": [
              "        date  city  product  sales  ...  var_7     var_8     var_9    var_10\n",
              "0 2017-01-02     1        1   28.0  ...   0.08  0.416806  1.171543  0.668805\n",
              "1 2017-01-02     1        2   72.0  ...   0.08  0.545467  0.541547  0.401800\n",
              "2 2017-01-02     1        3  128.0  ...   0.08  0.521452  0.945024  0.631538\n",
              "3 2017-01-02     1        4   20.0  ...   0.08  0.519929  0.635492  0.991901\n",
              "4 2017-01-02     1        5    4.0  ...   0.08  0.462138  0.574709  0.792799\n",
              "\n",
              "[5 rows x 18 columns]"
            ]
          },
          "metadata": {
            "tags": []
          },
          "execution_count": 32
        }
      ]
    },
    {
      "cell_type": "code",
      "metadata": {
        "id": "2gKPVJPePtbH",
        "colab": {
          "base_uri": "https://localhost:8080/",
          "height": 336
        },
        "outputId": "0f47d22b-03ed-4a5f-fa80-bc289634874c"
      },
      "source": [
        "sales_master.isnull().sum()"
      ],
      "execution_count": null,
      "outputs": [
        {
          "output_type": "execute_result",
          "data": {
            "text/plain": [
              "date                       0\n",
              "city                       0\n",
              "product                    0\n",
              "sales                      0\n",
              "Discount                   0\n",
              "foot_fall              49348\n",
              "product_category           0\n",
              "product_subcategory        0\n",
              "var_1                      0\n",
              "var_2                      0\n",
              "var_3                      0\n",
              "var_4                      0\n",
              "var_5                      0\n",
              "var_6                      0\n",
              "var_7                      0\n",
              "var_8                      0\n",
              "var_9                      0\n",
              "var_10                     0\n",
              "dtype: int64"
            ]
          },
          "metadata": {
            "tags": []
          },
          "execution_count": 33
        }
      ]
    },
    {
      "cell_type": "markdown",
      "metadata": {
        "id": "KBO8UpbaNxCn"
      },
      "source": [
        "### The below code snippet shows that we are missing foot_fall data for the 3rd and 4th of January"
      ]
    },
    {
      "cell_type": "code",
      "metadata": {
        "id": "bCmKnz1bPtZe",
        "colab": {
          "base_uri": "https://localhost:8080/",
          "height": 420
        },
        "outputId": "acd59564-4c82-4a15-a098-da89918f84ba"
      },
      "source": [
        "print(sales_master[sales_master['foot_fall'].isnull()].date.min())\n",
        "print(sales_master[sales_master['foot_fall'].isnull()].date.max())\n",
        "#printing to see if the null rows on missing footfall dataframe match the total dataframe for the dates 2018-01-03 and 2018-01-04\n",
        "# this would help us confirm if we arew misssing the data completely for the two days\n",
        "print(sales_master[sales_master['foot_fall'].isnull()].city.value_counts())\n",
        "print(sales_master[(sales_master['date'] == '2018-01-03') | (sales_master['date'] == '2018-01-04') ].city.value_counts())\n",
        "\n",
        "# our hypothesis is confirmed - we are indeed missing all data for the two days-"
      ],
      "execution_count": null,
      "outputs": [
        {
          "output_type": "stream",
          "text": [
            "2018-01-03 00:00:00\n",
            "2018-01-04 00:00:00\n",
            "5     5129\n",
            "4     5106\n",
            "1     5022\n",
            "7     4993\n",
            "9     4982\n",
            "6     4937\n",
            "3     4895\n",
            "10    4848\n",
            "8     4798\n",
            "2     4638\n",
            "Name: city, dtype: int64\n",
            "5     5129\n",
            "4     5106\n",
            "1     5022\n",
            "7     4993\n",
            "9     4982\n",
            "6     4937\n",
            "3     4895\n",
            "10    4848\n",
            "8     4798\n",
            "2     4638\n",
            "Name: city, dtype: int64\n"
          ],
          "name": "stdout"
        }
      ]
    },
    {
      "cell_type": "markdown",
      "metadata": {
        "id": "XNFr8egoQDBR"
      },
      "source": [
        "### ways to handle the missing values -\n",
        "\n",
        "\n",
        "> either we can take a rolling average of the previous week or take the exact same days of the previous week and use that data\n",
        "\n",
        "\n",
        "\n",
        "> In this particular case we would be better off taking the mean of the two days of the last week as the footfall depends on the week day and taking the mean would not affect our model as it is just 46,000 rowws compared to the entire dataset of 10 million\n",
        "\n",
        "\n",
        "\n",
        "\n",
        "\n",
        "\n",
        "\n",
        "\n"
      ]
    },
    {
      "cell_type": "code",
      "metadata": {
        "id": "EzHIOLDOQUes",
        "colab": {
          "base_uri": "https://localhost:8080/",
          "height": 34
        },
        "outputId": "0375fb0e-16b5-468d-83bf-1825192e2d92"
      },
      "source": [
        "a =footfall_pivotdown[(footfall_pivotdown['date']=='2017-12-27')|(footfall_pivotdown['date']=='2017-12-28')].foot_fall.mean()\n",
        "a"
      ],
      "execution_count": null,
      "outputs": [
        {
          "output_type": "execute_result",
          "data": {
            "text/plain": [
              "14706.8"
            ]
          },
          "metadata": {
            "tags": []
          },
          "execution_count": 35
        }
      ]
    },
    {
      "cell_type": "code",
      "metadata": {
        "id": "2tVxHQp0PtWM",
        "colab": {
          "base_uri": "https://localhost:8080/",
          "height": 336
        },
        "outputId": "bfa896b3-4bf0-49ad-aaeb-7d88a1d09def"
      },
      "source": [
        "sales_master['foot_fall'] = sales_master['foot_fall'].fillna(a)\n",
        "sales_master.isnull().sum()"
      ],
      "execution_count": null,
      "outputs": [
        {
          "output_type": "execute_result",
          "data": {
            "text/plain": [
              "date                   0\n",
              "city                   0\n",
              "product                0\n",
              "sales                  0\n",
              "Discount               0\n",
              "foot_fall              0\n",
              "product_category       0\n",
              "product_subcategory    0\n",
              "var_1                  0\n",
              "var_2                  0\n",
              "var_3                  0\n",
              "var_4                  0\n",
              "var_5                  0\n",
              "var_6                  0\n",
              "var_7                  0\n",
              "var_8                  0\n",
              "var_9                  0\n",
              "var_10                 0\n",
              "dtype: int64"
            ]
          },
          "metadata": {
            "tags": []
          },
          "execution_count": 36
        }
      ]
    },
    {
      "cell_type": "markdown",
      "metadata": {
        "id": "vVvC4aJca5tu"
      },
      "source": [
        "## Lets plot the trend of sales by time in different cities"
      ]
    },
    {
      "cell_type": "code",
      "metadata": {
        "id": "XfGvrwp2PtP2"
      },
      "source": [
        "\n",
        "sales_trend =sales_master.groupby(['date']).sales.sum()\n",
        "footfall_trend = sales_master.groupby(['date']).foot_fall.mean()"
      ],
      "execution_count": null,
      "outputs": []
    },
    {
      "cell_type": "code",
      "metadata": {
        "id": "804qI6fAPtOA",
        "colab": {
          "base_uri": "https://localhost:8080/",
          "height": 566
        },
        "outputId": "292ced14-c3cb-4f76-dd63-f74294708e6d"
      },
      "source": [
        "sales_trend_df = pd.DataFrame(sales_trend)\n",
        "footfall_trend_df = pd.DataFrame(footfall_trend)\n",
        "\n",
        "\n",
        "sales_trend_df.plot(grid = True)\n",
        "footfall_trend_df.plot(grid = True)"
      ],
      "execution_count": null,
      "outputs": [
        {
          "output_type": "execute_result",
          "data": {
            "text/plain": [
              "<matplotlib.axes._subplots.AxesSubplot at 0x7f423e3ea898>"
            ]
          },
          "metadata": {
            "tags": []
          },
          "execution_count": 38
        },
        {
          "output_type": "display_data",
          "data": {
            "image/png": "[encoded data removed]",
            "text/plain": [
              "<Figure size 432x288 with 1 Axes>"
            ]
          },
          "metadata": {
            "tags": [],
            "needs_background": "light"
          }
        },
        {
          "output_type": "display_data",
          "data": {
            "image/png": "[encoded data removed]",
            "text/plain": [
              "<Figure size 432x288 with 1 Axes>"
            ]
          },
          "metadata": {
            "tags": [],
            "needs_background": "light"
          }
        }
      ]
    },
    {
      "cell_type": "markdown",
      "metadata": {
        "id": "p1c_j1YP8ihT"
      },
      "source": [
        "\n",
        "\n",
        "---\n",
        "\n",
        "\n",
        "###Analyzing the complete foot fall trend to see if we generally see a spike in December\n",
        "### on Similar lines checking the 2015/16 sales trends\n",
        "---\n",
        "\n"
      ]
    },
    {
      "cell_type": "code",
      "metadata": {
        "id": "se44HLYf5pwM",
        "colab": {
          "base_uri": "https://localhost:8080/",
          "height": 296
        },
        "outputId": "5a755e9c-b96c-4133-e224-3be3b7c5f8c5"
      },
      "source": [
        "footfall_complete_trend =pd.DataFrame(footfall_pivotdown.groupby(['date']).foot_fall.sum())\n",
        "footfall_complete_trend.plot(grid = True)"
      ],
      "execution_count": null,
      "outputs": [
        {
          "output_type": "execute_result",
          "data": {
            "text/plain": [
              "<matplotlib.axes._subplots.AxesSubplot at 0x7f423de85748>"
            ]
          },
          "metadata": {
            "tags": []
          },
          "execution_count": 39
        },
        {
          "output_type": "display_data",
          "data": {
            "image/png": "[encoded data removed]",
            "text/plain": [
              "<Figure size 432x288 with 1 Axes>"
            ]
          },
          "metadata": {
            "tags": [],
            "needs_background": "light"
          }
        }
      ]
    },
    {
      "cell_type": "code",
      "metadata": {
        "id": "RDGKliPm5qEP",
        "colab": {
          "base_uri": "https://localhost:8080/",
          "height": 633
        },
        "outputId": "ebcb8bd6-306a-4fc8-e5e0-ee8c1d112d09"
      },
      "source": [
        "sales_15_16 = sales_2015.append(sales_2016,ignore_index = True)\n",
        "sales_complete_trend = pd.DataFrame(sales_15_16.groupby(['date']).sales.sum())\n",
        "\n",
        "sales_complete_trend.plot(grid = True, figsize = (10,10))"
      ],
      "execution_count": null,
      "outputs": [
        {
          "output_type": "execute_result",
          "data": {
            "text/plain": [
              "<matplotlib.axes._subplots.AxesSubplot at 0x7f423e3b84a8>"
            ]
          },
          "metadata": {
            "tags": []
          },
          "execution_count": 40
        },
        {
          "output_type": "display_data",
          "data": {
            "image/png": "[encoded data removed]",
            "text/plain": [
              "<Figure size 720x720 with 1 Axes>"
            ]
          },
          "metadata": {
            "tags": [],
            "needs_background": "light"
          }
        }
      ]
    },
    {
      "cell_type": "markdown",
      "metadata": {
        "id": "C5fff9iu_qbo"
      },
      "source": [
        "\n",
        "\n",
        "---\n",
        "###From the above sales and footfall trend it seems that the footfall data is stable with spikes in December although the sales data on an overall level seems to increase\n",
        "\n",
        "\n",
        "---\n",
        "\n",
        "\n"
      ]
    },
    {
      "cell_type": "markdown",
      "metadata": {
        "id": "0H08CrVZ_q8p"
      },
      "source": [
        "## Now let's check the Sales by City and Date"
      ]
    },
    {
      "cell_type": "code",
      "metadata": {
        "id": "wmGVjqRQ5qLv"
      },
      "source": [
        "sales_by_city = pd.DataFrame(yearly_sales.groupby(['date','city']).sales.sum())\n"
      ],
      "execution_count": null,
      "outputs": []
    },
    {
      "cell_type": "code",
      "metadata": {
        "id": "fJHEe5jy5qPv",
        "colab": {
          "base_uri": "https://localhost:8080/",
          "height": 195
        },
        "outputId": "9fba9e0c-221e-4f7f-f48f-34bd417a3f19"
      },
      "source": [
        "sales_by_city.reset_index(inplace = True)\n",
        "sales_by_city.head()"
      ],
      "execution_count": null,
      "outputs": [
        {
          "output_type": "execute_result",
          "data": {
            "text/html": [
              "<div>\n",
              "<style scoped>\n",
              "    .dataframe tbody tr th:only-of-type {\n",
              "        vertical-align: middle;\n",
              "    }\n",
              "\n",
              "    .dataframe tbody tr th {\n",
              "        vertical-align: top;\n",
              "    }\n",
              "\n",
              "    .dataframe thead th {\n",
              "        text-align: right;\n",
              "    }\n",
              "</style>\n",
              "<table border=\"1\" class=\"dataframe\">\n",
              "  <thead>\n",
              "    <tr style=\"text-align: right;\">\n",
              "      <th></th>\n",
              "      <th>date</th>\n",
              "      <th>city</th>\n",
              "      <th>sales</th>\n",
              "    </tr>\n",
              "  </thead>\n",
              "  <tbody>\n",
              "    <tr>\n",
              "      <th>0</th>\n",
              "      <td>2017-01-02</td>\n",
              "      <td>1</td>\n",
              "      <td>106356.520</td>\n",
              "    </tr>\n",
              "    <tr>\n",
              "      <th>1</th>\n",
              "      <td>2017-01-02</td>\n",
              "      <td>2</td>\n",
              "      <td>64254.312</td>\n",
              "    </tr>\n",
              "    <tr>\n",
              "      <th>2</th>\n",
              "      <td>2017-01-02</td>\n",
              "      <td>3</td>\n",
              "      <td>58452.140</td>\n",
              "    </tr>\n",
              "    <tr>\n",
              "      <th>3</th>\n",
              "      <td>2017-01-02</td>\n",
              "      <td>4</td>\n",
              "      <td>133132.456</td>\n",
              "    </tr>\n",
              "    <tr>\n",
              "      <th>4</th>\n",
              "      <td>2017-01-02</td>\n",
              "      <td>5</td>\n",
              "      <td>159410.168</td>\n",
              "    </tr>\n",
              "  </tbody>\n",
              "</table>\n",
              "</div>"
            ],
            "text/plain": [
              "        date  city       sales\n",
              "0 2017-01-02     1  106356.520\n",
              "1 2017-01-02     2   64254.312\n",
              "2 2017-01-02     3   58452.140\n",
              "3 2017-01-02     4  133132.456\n",
              "4 2017-01-02     5  159410.168"
            ]
          },
          "metadata": {
            "tags": []
          },
          "execution_count": 42
        }
      ]
    },
    {
      "cell_type": "code",
      "metadata": {
        "id": "OK3adDdID3Dj",
        "colab": {
          "base_uri": "https://localhost:8080/",
          "height": 296
        },
        "outputId": "42bf17ba-b996-4a3f-ab16-87e3a9242f08"
      },
      "source": [
        "import seaborn as sns\n",
        "sns.lineplot(x=\"date\", y=\"sales\",\n",
        "             hue=\"city\",\n",
        "             data=sales_by_city)\n",
        "\n",
        "# this is not clear so let's plot it by city"
      ],
      "execution_count": null,
      "outputs": [
        {
          "output_type": "execute_result",
          "data": {
            "text/plain": [
              "<matplotlib.axes._subplots.AxesSubplot at 0x7f423dd89b70>"
            ]
          },
          "metadata": {
            "tags": []
          },
          "execution_count": 43
        },
        {
          "output_type": "display_data",
          "data": {
            "image/png": "[encoded data removed]",
            "text/plain": [
              "<Figure size 432x288 with 1 Axes>"
            ]
          },
          "metadata": {
            "tags": [],
            "needs_background": "light"
          }
        }
      ]
    },
    {
      "cell_type": "markdown",
      "metadata": {
        "id": "YUduPI26MC96"
      },
      "source": [
        "###Plot sales by cities\n",
        "\n",
        "\n",
        "\n",
        "> the below plots show that the sales are increasing by time for all city codes thus it is confirmed that thee sales data has time series properties\n",
        "\n"
      ]
    },
    {
      "cell_type": "code",
      "metadata": {
        "id": "x2N5VJ_lD3OM"
      },
      "source": [
        "def city_sales_plot(df,city):\n",
        "  df_1 = [abs]\n",
        "  df_1 = df[df['city'] == city]\n",
        "\n",
        "  return sns.lineplot(x=\"date\", y=\"sales\",data=df_1)\n",
        "             \n",
        "   "
      ],
      "execution_count": null,
      "outputs": []
    },
    {
      "cell_type": "code",
      "metadata": {
        "id": "fd10vHbCD3Ls",
        "colab": {
          "base_uri": "https://localhost:8080/",
          "height": 1000
        },
        "outputId": "387c201a-953e-4c42-c6ad-438ae412746b"
      },
      "source": [
        "for i in range(1,11):\n",
        "  plt.figure(i)\n",
        "  plt.title(i)\n",
        "  city_sales_plot(sales_by_city,i)\n",
        "  "
      ],
      "execution_count": null,
      "outputs": [
        {
          "output_type": "display_data",
          "data": {
            "image/png": "[encoded data removed]",
            "text/plain": [
              "<Figure size 432x288 with 1 Axes>"
            ]
          },
          "metadata": {
            "tags": [],
            "needs_background": "light"
          }
        },
        {
          "output_type": "display_data",
          "data": {
            "image/png": "[encoded data removed]",
            "text/plain": [
              "<Figure size 432x288 with 1 Axes>"
            ]
          },
          "metadata": {
            "tags": [],
            "needs_background": "light"
          }
        },
        {
          "output_type": "display_data",
          "data": {
            "image/png": "[encoded data removed]",
            "text/plain": [
              "<Figure size 432x288 with 1 Axes>"
            ]
          },
          "metadata": {
            "tags": [],
            "needs_background": "light"
          }
        },
        {
          "output_type": "display_data",
          "data": {
            "image/png": "[encoded data removed]",
            "text/plain": [
              "<Figure size 432x288 with 1 Axes>"
            ]
          },
          "metadata": {
            "tags": [],
            "needs_background": "light"
          }
        },
        {
          "output_type": "display_data",
          "data": {
            "image/png": "[encoded data removed]",
            "text/plain": [
              "<Figure size 432x288 with 1 Axes>"
            ]
          },
          "metadata": {
            "tags": [],
            "needs_background": "light"
          }
        },
        {
          "output_type": "display_data",
          "data": {
            "image/png": "[encoded data removed]",
            "text/plain": [
              "<Figure size 432x288 with 1 Axes>"
            ]
          },
          "metadata": {
            "tags": [],
            "needs_background": "light"
          }
        },
        {
          "output_type": "display_data",
          "data": {
            "image/png": "[encoded data removed]",
            "text/plain": [
              "<Figure size 432x288 with 1 Axes>"
            ]
          },
          "metadata": {
            "tags": [],
            "needs_background": "light"
          }
        },
        {
          "output_type": "display_data",
          "data": {
            "image/png": "[encoded data removed]",
            "text/plain": [
              "<Figure size 432x288 with 1 Axes>"
            ]
          },
          "metadata": {
            "tags": [],
            "needs_background": "light"
          }
        },
        {
          "output_type": "display_data",
          "data": {
            "image/png": "[encoded data removed]",
            "text/plain": [
              "<Figure size 432x288 with 1 Axes>"
            ]
          },
          "metadata": {
            "tags": [],
            "needs_background": "light"
          }
        },
        {
          "output_type": "display_data",
          "data": {
            "image/png": "[encoded data removed]",
            "text/plain": [
              "<Figure size 432x288 with 1 Axes>"
            ]
          },
          "metadata": {
            "tags": [],
            "needs_background": "light"
          }
        }
      ]
    },
    {
      "cell_type": "markdown",
      "metadata": {
        "id": "u6Cg-7GfSZiB"
      },
      "source": [
        "## Exploring the Product Category and Subcategory column -\n",
        "\n",
        "we will categorically encode them and plot graphs to check wether the sales vary by product category or not?"
      ]
    },
    {
      "cell_type": "code",
      "metadata": {
        "id": "VzdoIxckSXlW",
        "colab": {
          "base_uri": "https://localhost:8080/",
          "height": 481
        },
        "outputId": "d29e0273-5856-4003-8d2a-cd147d877d72"
      },
      "source": [
        "# Encoding the product Category and Subcategory columns in the main table\n",
        "product_map = product_information[['product','product_category','product_subcategory']]\n",
        "\n",
        "product_map['product_category'] = product_map['product_category'].str.split(\"_\").str.get(1)\n",
        "product_map['product_subcategory'] = product_map['product_subcategory'].str.split(\"_\").str.get(1)\n",
        "product_map.rename(columns = {'product_category': 'product_cat','product_subcategory': 'product_subcat'},inplace = True)\n",
        "product_map.head()"
      ],
      "execution_count": null,
      "outputs": [
        {
          "output_type": "stream",
          "text": [
            "/usr/local/lib/python3.6/dist-packages/ipykernel_launcher.py:4: SettingWithCopyWarning: \n",
            "A value is trying to be set on a copy of a slice from a DataFrame.\n",
            "Try using .loc[row_indexer,col_indexer] = value instead\n",
            "\n",
            "See the caveats in the documentation: https://pandas.pydata.org/pandas-docs/stable/user_guide/indexing.html#returning-a-view-versus-a-copy\n",
            "  after removing the cwd from sys.path.\n",
            "/usr/local/lib/python3.6/dist-packages/ipykernel_launcher.py:5: SettingWithCopyWarning: \n",
            "A value is trying to be set on a copy of a slice from a DataFrame.\n",
            "Try using .loc[row_indexer,col_indexer] = value instead\n",
            "\n",
            "See the caveats in the documentation: https://pandas.pydata.org/pandas-docs/stable/user_guide/indexing.html#returning-a-view-versus-a-copy\n",
            "  \"\"\"\n",
            "/usr/local/lib/python3.6/dist-packages/pandas/core/frame.py:4133: SettingWithCopyWarning: \n",
            "A value is trying to be set on a copy of a slice from a DataFrame\n",
            "\n",
            "See the caveats in the documentation: https://pandas.pydata.org/pandas-docs/stable/user_guide/indexing.html#returning-a-view-versus-a-copy\n",
            "  errors=errors,\n"
          ],
          "name": "stderr"
        },
        {
          "output_type": "execute_result",
          "data": {
            "text/html": [
              "<div>\n",
              "<style scoped>\n",
              "    .dataframe tbody tr th:only-of-type {\n",
              "        vertical-align: middle;\n",
              "    }\n",
              "\n",
              "    .dataframe tbody tr th {\n",
              "        vertical-align: top;\n",
              "    }\n",
              "\n",
              "    .dataframe thead th {\n",
              "        text-align: right;\n",
              "    }\n",
              "</style>\n",
              "<table border=\"1\" class=\"dataframe\">\n",
              "  <thead>\n",
              "    <tr style=\"text-align: right;\">\n",
              "      <th></th>\n",
              "      <th>product</th>\n",
              "      <th>product_cat</th>\n",
              "      <th>product_subcat</th>\n",
              "    </tr>\n",
              "  </thead>\n",
              "  <tbody>\n",
              "    <tr>\n",
              "      <th>0</th>\n",
              "      <td>1</td>\n",
              "      <td>753</td>\n",
              "      <td>3077</td>\n",
              "    </tr>\n",
              "    <tr>\n",
              "      <th>1</th>\n",
              "      <td>2</td>\n",
              "      <td>643</td>\n",
              "      <td>3774</td>\n",
              "    </tr>\n",
              "    <tr>\n",
              "      <th>2</th>\n",
              "      <td>3</td>\n",
              "      <td>2804</td>\n",
              "      <td>7454</td>\n",
              "    </tr>\n",
              "    <tr>\n",
              "      <th>3</th>\n",
              "      <td>4</td>\n",
              "      <td>71</td>\n",
              "      <td>5</td>\n",
              "    </tr>\n",
              "    <tr>\n",
              "      <th>4</th>\n",
              "      <td>5</td>\n",
              "      <td>1556</td>\n",
              "      <td>9403</td>\n",
              "    </tr>\n",
              "  </tbody>\n",
              "</table>\n",
              "</div>"
            ],
            "text/plain": [
              "   product product_cat product_subcat\n",
              "0        1         753           3077\n",
              "1        2         643           3774\n",
              "2        3        2804           7454\n",
              "3        4          71              5\n",
              "4        5        1556           9403"
            ]
          },
          "metadata": {
            "tags": []
          },
          "execution_count": 46
        }
      ]
    },
    {
      "cell_type": "code",
      "metadata": {
        "id": "xPC3s7aMSUg2",
        "colab": {
          "base_uri": "https://localhost:8080/",
          "height": 299
        },
        "outputId": "38c241aa-b439-4dbd-86be-596575a82d66"
      },
      "source": [
        "#pulling the encoded column in the sales_master file\n",
        "sales_master = sales_master.merge(product_map,how = 'left', left_on = 'product',right_on = 'product',suffixes = ('_x','_y'))\n",
        "sales_master.head()"
      ],
      "execution_count": null,
      "outputs": [
        {
          "output_type": "execute_result",
          "data": {
            "text/html": [
              "<div>\n",
              "<style scoped>\n",
              "    .dataframe tbody tr th:only-of-type {\n",
              "        vertical-align: middle;\n",
              "    }\n",
              "\n",
              "    .dataframe tbody tr th {\n",
              "        vertical-align: top;\n",
              "    }\n",
              "\n",
              "    .dataframe thead th {\n",
              "        text-align: right;\n",
              "    }\n",
              "</style>\n",
              "<table border=\"1\" class=\"dataframe\">\n",
              "  <thead>\n",
              "    <tr style=\"text-align: right;\">\n",
              "      <th></th>\n",
              "      <th>date</th>\n",
              "      <th>city</th>\n",
              "      <th>product</th>\n",
              "      <th>sales</th>\n",
              "      <th>Discount</th>\n",
              "      <th>foot_fall</th>\n",
              "      <th>product_category</th>\n",
              "      <th>product_subcategory</th>\n",
              "      <th>var_1</th>\n",
              "      <th>var_2</th>\n",
              "      <th>var_3</th>\n",
              "      <th>var_4</th>\n",
              "      <th>var_5</th>\n",
              "      <th>var_6</th>\n",
              "      <th>var_7</th>\n",
              "      <th>var_8</th>\n",
              "      <th>var_9</th>\n",
              "      <th>var_10</th>\n",
              "      <th>product_cat</th>\n",
              "      <th>product_subcat</th>\n",
              "    </tr>\n",
              "  </thead>\n",
              "  <tbody>\n",
              "    <tr>\n",
              "      <th>0</th>\n",
              "      <td>2017-01-02</td>\n",
              "      <td>1</td>\n",
              "      <td>1</td>\n",
              "      <td>28.0</td>\n",
              "      <td>1.0</td>\n",
              "      <td>13716.0</td>\n",
              "      <td>Cat_753</td>\n",
              "      <td>SubCat_3077</td>\n",
              "      <td>0.715514</td>\n",
              "      <td>0.299219</td>\n",
              "      <td>0.381067</td>\n",
              "      <td>0.0003</td>\n",
              "      <td>0.363847</td>\n",
              "      <td>0.300629</td>\n",
              "      <td>0.08</td>\n",
              "      <td>0.416806</td>\n",
              "      <td>1.171543</td>\n",
              "      <td>0.668805</td>\n",
              "      <td>753</td>\n",
              "      <td>3077</td>\n",
              "    </tr>\n",
              "    <tr>\n",
              "      <th>1</th>\n",
              "      <td>2017-01-02</td>\n",
              "      <td>1</td>\n",
              "      <td>2</td>\n",
              "      <td>72.0</td>\n",
              "      <td>0.0</td>\n",
              "      <td>13716.0</td>\n",
              "      <td>Cat_643</td>\n",
              "      <td>SubCat_3774</td>\n",
              "      <td>0.075851</td>\n",
              "      <td>0.298774</td>\n",
              "      <td>0.852691</td>\n",
              "      <td>0.0003</td>\n",
              "      <td>0.409503</td>\n",
              "      <td>0.465912</td>\n",
              "      <td>0.08</td>\n",
              "      <td>0.545467</td>\n",
              "      <td>0.541547</td>\n",
              "      <td>0.401800</td>\n",
              "      <td>643</td>\n",
              "      <td>3774</td>\n",
              "    </tr>\n",
              "    <tr>\n",
              "      <th>2</th>\n",
              "      <td>2017-01-02</td>\n",
              "      <td>1</td>\n",
              "      <td>3</td>\n",
              "      <td>128.0</td>\n",
              "      <td>0.0</td>\n",
              "      <td>13716.0</td>\n",
              "      <td>Cat_2804</td>\n",
              "      <td>SubCat_7454</td>\n",
              "      <td>0.285910</td>\n",
              "      <td>0.308168</td>\n",
              "      <td>0.531137</td>\n",
              "      <td>0.0003</td>\n",
              "      <td>0.168459</td>\n",
              "      <td>0.517364</td>\n",
              "      <td>0.08</td>\n",
              "      <td>0.521452</td>\n",
              "      <td>0.945024</td>\n",
              "      <td>0.631538</td>\n",
              "      <td>2804</td>\n",
              "      <td>7454</td>\n",
              "    </tr>\n",
              "    <tr>\n",
              "      <th>3</th>\n",
              "      <td>2017-01-02</td>\n",
              "      <td>1</td>\n",
              "      <td>4</td>\n",
              "      <td>20.0</td>\n",
              "      <td>0.0</td>\n",
              "      <td>13716.0</td>\n",
              "      <td>Cat_71</td>\n",
              "      <td>SubCat_5</td>\n",
              "      <td>0.544437</td>\n",
              "      <td>0.281760</td>\n",
              "      <td>0.530937</td>\n",
              "      <td>0.0003</td>\n",
              "      <td>0.291839</td>\n",
              "      <td>0.302639</td>\n",
              "      <td>0.08</td>\n",
              "      <td>0.519929</td>\n",
              "      <td>0.635492</td>\n",
              "      <td>0.991901</td>\n",
              "      <td>71</td>\n",
              "      <td>5</td>\n",
              "    </tr>\n",
              "    <tr>\n",
              "      <th>4</th>\n",
              "      <td>2017-01-02</td>\n",
              "      <td>1</td>\n",
              "      <td>5</td>\n",
              "      <td>4.0</td>\n",
              "      <td>0.0</td>\n",
              "      <td>13716.0</td>\n",
              "      <td>Cat_1556</td>\n",
              "      <td>SubCat_9403</td>\n",
              "      <td>0.852752</td>\n",
              "      <td>0.301493</td>\n",
              "      <td>0.343009</td>\n",
              "      <td>0.0003</td>\n",
              "      <td>0.286037</td>\n",
              "      <td>0.822326</td>\n",
              "      <td>0.08</td>\n",
              "      <td>0.462138</td>\n",
              "      <td>0.574709</td>\n",
              "      <td>0.792799</td>\n",
              "      <td>1556</td>\n",
              "      <td>9403</td>\n",
              "    </tr>\n",
              "  </tbody>\n",
              "</table>\n",
              "</div>"
            ],
            "text/plain": [
              "        date  city  product  ...    var_10  product_cat  product_subcat\n",
              "0 2017-01-02     1        1  ...  0.668805          753            3077\n",
              "1 2017-01-02     1        2  ...  0.401800          643            3774\n",
              "2 2017-01-02     1        3  ...  0.631538         2804            7454\n",
              "3 2017-01-02     1        4  ...  0.991901           71               5\n",
              "4 2017-01-02     1        5  ...  0.792799         1556            9403\n",
              "\n",
              "[5 rows x 20 columns]"
            ]
          },
          "metadata": {
            "tags": []
          },
          "execution_count": 47
        }
      ]
    },
    {
      "cell_type": "markdown",
      "metadata": {
        "id": "dKhnGxhsUNCa"
      },
      "source": [
        "\n",
        "\n",
        "---\n",
        "# Category and Subcategory plot insights\n",
        "\n",
        "we see that the product sales volume depends a lot on the category and subcategory\n",
        "\n",
        "\n",
        "\n",
        "> product category graph shows high variance by category- thus we need to include this feature in the modelling\n",
        "\n",
        "\n",
        "\n",
        "\n",
        "> Product Subcategory graph shows a peculiar peak for a subcategory around \"1700\". This plot also shows extreme high variance\n",
        "\n"
      ]
    },
    {
      "cell_type": "code",
      "metadata": {
        "id": "yo6QJ8PST3vl",
        "colab": {
          "base_uri": "https://localhost:8080/",
          "height": 282
        },
        "outputId": "6bda989e-9833-4b9f-f2aa-6881e5f1cec9"
      },
      "source": [
        "# plotting the sales by product categories\n",
        "\n",
        "sales_master.groupby(['product_cat'],as_index = False).sales.mean().plot()\n",
        "\n",
        "# we see that the sales is varying a lot by the product categories and thus this column can help the model to predict\n",
        "# the sales for a particular product\n"
      ],
      "execution_count": null,
      "outputs": [
        {
          "output_type": "execute_result",
          "data": {
            "text/plain": [
              "<matplotlib.axes._subplots.AxesSubplot at 0x7f423c4d2fd0>"
            ]
          },
          "metadata": {
            "tags": []
          },
          "execution_count": 48
        },
        {
          "output_type": "display_data",
          "data": {
            "image/png": "[encoded data removed]",
            "text/plain": [
              "<Figure size 432x288 with 1 Axes>"
            ]
          },
          "metadata": {
            "tags": [],
            "needs_background": "light"
          }
        }
      ]
    },
    {
      "cell_type": "code",
      "metadata": {
        "id": "xYygiAVHcVfh",
        "colab": {
          "base_uri": "https://localhost:8080/",
          "height": 282
        },
        "outputId": "03611899-93c8-48e8-baec-9c61c0a85b0e"
      },
      "source": [
        "# plotting the sales by product subcategories\n",
        "sales_master.groupby(['product_subcat'],as_index = False).sales.mean().plot()"
      ],
      "execution_count": null,
      "outputs": [
        {
          "output_type": "execute_result",
          "data": {
            "text/plain": [
              "<matplotlib.axes._subplots.AxesSubplot at 0x7f423c03d860>"
            ]
          },
          "metadata": {
            "tags": []
          },
          "execution_count": 49
        },
        {
          "output_type": "display_data",
          "data": {
            "image/png": "[encoded data removed]",
            "text/plain": [
              "<Figure size 432x288 with 1 Axes>"
            ]
          },
          "metadata": {
            "tags": [],
            "needs_background": "light"
          }
        }
      ]
    },
    {
      "cell_type": "markdown",
      "metadata": {
        "id": "V6hBCz1rwnB6"
      },
      "source": [
        "#Creating Rolling Mean and Lag features\n",
        "\n",
        "\n",
        "---\n",
        "\n",
        "we can now create rolling averages for set periods in history and also create lag features with multiple offsets\n",
        "\n",
        "this will help the modfel to take the time variate in the picture\n",
        "\n",
        "\n",
        "---\n",
        "\n",
        "\n"
      ]
    },
    {
      "cell_type": "code",
      "metadata": {
        "id": "hgr3bFvPD3J4"
      },
      "source": [
        "sales_master.sort_values(['product','city','date'],inplace = True)"
      ],
      "execution_count": null,
      "outputs": []
    },
    {
      "cell_type": "code",
      "metadata": {
        "id": "5JuINvsgwl-3"
      },
      "source": [
        "# Creating sales rolling mean features\n",
        "def create_sales_rmean_feats(df, gpby_cols, target_col, windows, min_periods, \n",
        "                             shift=93, win_type=None):\n",
        "    gpby = df.groupby(gpby_cols)\n",
        "    for w in windows:\n",
        "        df['_'.join([target_col, 'rmean', str(w)])] = \\\n",
        "            gpby[target_col].shift(shift).rolling(window=w, \n",
        "                                                  min_periods=min_periods,\n",
        "                                                  win_type=win_type).mean().values +\\\n",
        "            np.random.normal(scale=1.6, size=(len(df),))\n",
        "    return df\n",
        "\n",
        "\n",
        "# Creating sales lag features\n",
        "def create_sales_lag_feats(df, gpby_cols, target_col, lags):\n",
        "    gpby = df.groupby(gpby_cols)\n",
        "    for i in lags:\n",
        "        df['_'.join([target_col, 'lag', str(i)])] = \\\n",
        "                gpby[target_col].shift(i).values + np.random.normal(scale=1.6, size=(len(df),))\n",
        "    return df"
      ],
      "execution_count": null,
      "outputs": []
    },
    {
      "cell_type": "code",
      "metadata": {
        "id": "UxpCIz9FPh1M"
      },
      "source": [
        "#Imputing the Sales Master table\n",
        "\n",
        "# adding the lag features\n",
        "sales_master = create_sales_lag_feats(sales_master, gpby_cols=['city','product'], target_col='sales', \n",
        "                               lags=[93,120])\n",
        "\n",
        "# adding the rolling average features\n",
        "sales_master = create_sales_rmean_feats(sales_master, gpby_cols=['city','product'], \n",
        "                                 target_col='sales', windows=[7,14,60], \n",
        "                                 min_periods=2)\n",
        "\n",
        "# creating Categorical variables using the Date  column\n",
        "sales_master['dayofmonth'] = sales_master.date.dt.day\n",
        "sales_master['dayofweek'] = sales_master.date.dt.dayofweek\n",
        "sales_master['dayofyear'] = sales_master.date.dt.dayofyear\n",
        "\n",
        "sales_master.dropna(inplace = True)\n"
      ],
      "execution_count": null,
      "outputs": []
    },
    {
      "cell_type": "markdown",
      "metadata": {
        "id": "1xud9OTCRVpg"
      },
      "source": [
        "#With limited ram access it is going to be extremely difficult to use different bagging and boosting techniques\n",
        "\n",
        "\n",
        "\n",
        "> to avoid such issues we are going to limit the test dataset to data after 2018 and train our model\n",
        "\n",
        "\n",
        "\n",
        "\n",
        "\n"
      ]
    },
    {
      "cell_type": "code",
      "metadata": {
        "id": "i-XwNVh5L-ea",
        "colab": {
          "base_uri": "https://localhost:8080/",
          "height": 316
        },
        "outputId": "6a57bac4-23d4-4a71-ca75-f0bda8efa8e5"
      },
      "source": [
        "sales_master= sales_master[sales_master['date']>'2017-05-01']\n",
        "sales_master = sales_master.astype({'product_cat':'int32','product_subcat':'int32'})\n",
        "sales_master['month'] = sales_master.date.dt.month\n",
        "\n",
        "print(sales_master.shape)\n",
        "sales_master.head()"
      ],
      "execution_count": null,
      "outputs": [
        {
          "output_type": "stream",
          "text": [
            "(6707316, 29)\n"
          ],
          "name": "stdout"
        },
        {
          "output_type": "execute_result",
          "data": {
            "text/html": [
              "<div>\n",
              "<style scoped>\n",
              "    .dataframe tbody tr th:only-of-type {\n",
              "        vertical-align: middle;\n",
              "    }\n",
              "\n",
              "    .dataframe tbody tr th {\n",
              "        vertical-align: top;\n",
              "    }\n",
              "\n",
              "    .dataframe thead th {\n",
              "        text-align: right;\n",
              "    }\n",
              "</style>\n",
              "<table border=\"1\" class=\"dataframe\">\n",
              "  <thead>\n",
              "    <tr style=\"text-align: right;\">\n",
              "      <th></th>\n",
              "      <th>date</th>\n",
              "      <th>city</th>\n",
              "      <th>product</th>\n",
              "      <th>sales</th>\n",
              "      <th>Discount</th>\n",
              "      <th>foot_fall</th>\n",
              "      <th>product_category</th>\n",
              "      <th>product_subcategory</th>\n",
              "      <th>var_1</th>\n",
              "      <th>var_2</th>\n",
              "      <th>var_3</th>\n",
              "      <th>var_4</th>\n",
              "      <th>var_5</th>\n",
              "      <th>var_6</th>\n",
              "      <th>var_7</th>\n",
              "      <th>var_8</th>\n",
              "      <th>var_9</th>\n",
              "      <th>var_10</th>\n",
              "      <th>product_cat</th>\n",
              "      <th>product_subcat</th>\n",
              "      <th>sales_lag_93</th>\n",
              "      <th>sales_lag_120</th>\n",
              "      <th>sales_rmean_7</th>\n",
              "      <th>sales_rmean_14</th>\n",
              "      <th>sales_rmean_60</th>\n",
              "      <th>dayofmonth</th>\n",
              "      <th>dayofweek</th>\n",
              "      <th>dayofyear</th>\n",
              "      <th>month</th>\n",
              "    </tr>\n",
              "  </thead>\n",
              "  <tbody>\n",
              "    <tr>\n",
              "      <th>2034882</th>\n",
              "      <td>2017-05-06</td>\n",
              "      <td>1</td>\n",
              "      <td>1</td>\n",
              "      <td>8.0</td>\n",
              "      <td>0.0</td>\n",
              "      <td>12788.0</td>\n",
              "      <td>Cat_753</td>\n",
              "      <td>SubCat_3077</td>\n",
              "      <td>0.715514</td>\n",
              "      <td>0.299219</td>\n",
              "      <td>0.381067</td>\n",
              "      <td>0.0003</td>\n",
              "      <td>0.363847</td>\n",
              "      <td>0.300629</td>\n",
              "      <td>0.08</td>\n",
              "      <td>0.416806</td>\n",
              "      <td>1.171543</td>\n",
              "      <td>0.668805</td>\n",
              "      <td>753</td>\n",
              "      <td>3077</td>\n",
              "      <td>4.400578</td>\n",
              "      <td>27.301992</td>\n",
              "      <td>15.290744</td>\n",
              "      <td>18.701899</td>\n",
              "      <td>17.832380</td>\n",
              "      <td>6</td>\n",
              "      <td>5</td>\n",
              "      <td>126</td>\n",
              "      <td>5</td>\n",
              "    </tr>\n",
              "    <tr>\n",
              "      <th>2052177</th>\n",
              "      <td>2017-05-07</td>\n",
              "      <td>1</td>\n",
              "      <td>1</td>\n",
              "      <td>8.0</td>\n",
              "      <td>0.0</td>\n",
              "      <td>12060.0</td>\n",
              "      <td>Cat_753</td>\n",
              "      <td>SubCat_3077</td>\n",
              "      <td>0.715514</td>\n",
              "      <td>0.299219</td>\n",
              "      <td>0.381067</td>\n",
              "      <td>0.0003</td>\n",
              "      <td>0.363847</td>\n",
              "      <td>0.300629</td>\n",
              "      <td>0.08</td>\n",
              "      <td>0.416806</td>\n",
              "      <td>1.171543</td>\n",
              "      <td>0.668805</td>\n",
              "      <td>753</td>\n",
              "      <td>3077</td>\n",
              "      <td>50.476615</td>\n",
              "      <td>32.265629</td>\n",
              "      <td>20.340017</td>\n",
              "      <td>20.587596</td>\n",
              "      <td>19.074910</td>\n",
              "      <td>7</td>\n",
              "      <td>6</td>\n",
              "      <td>127</td>\n",
              "      <td>5</td>\n",
              "    </tr>\n",
              "    <tr>\n",
              "      <th>2068943</th>\n",
              "      <td>2017-05-08</td>\n",
              "      <td>1</td>\n",
              "      <td>1</td>\n",
              "      <td>40.0</td>\n",
              "      <td>0.0</td>\n",
              "      <td>13444.0</td>\n",
              "      <td>Cat_753</td>\n",
              "      <td>SubCat_3077</td>\n",
              "      <td>0.715514</td>\n",
              "      <td>0.299219</td>\n",
              "      <td>0.381067</td>\n",
              "      <td>0.0003</td>\n",
              "      <td>0.363847</td>\n",
              "      <td>0.300629</td>\n",
              "      <td>0.08</td>\n",
              "      <td>0.416806</td>\n",
              "      <td>1.171543</td>\n",
              "      <td>0.668805</td>\n",
              "      <td>753</td>\n",
              "      <td>3077</td>\n",
              "      <td>2.473997</td>\n",
              "      <td>10.752298</td>\n",
              "      <td>17.508208</td>\n",
              "      <td>20.080741</td>\n",
              "      <td>21.273241</td>\n",
              "      <td>8</td>\n",
              "      <td>0</td>\n",
              "      <td>128</td>\n",
              "      <td>5</td>\n",
              "    </tr>\n",
              "    <tr>\n",
              "      <th>2086299</th>\n",
              "      <td>2017-05-09</td>\n",
              "      <td>1</td>\n",
              "      <td>1</td>\n",
              "      <td>40.0</td>\n",
              "      <td>0.0</td>\n",
              "      <td>18464.0</td>\n",
              "      <td>Cat_753</td>\n",
              "      <td>SubCat_3077</td>\n",
              "      <td>0.715514</td>\n",
              "      <td>0.299219</td>\n",
              "      <td>0.381067</td>\n",
              "      <td>0.0003</td>\n",
              "      <td>0.363847</td>\n",
              "      <td>0.300629</td>\n",
              "      <td>0.08</td>\n",
              "      <td>0.416806</td>\n",
              "      <td>1.171543</td>\n",
              "      <td>0.668805</td>\n",
              "      <td>753</td>\n",
              "      <td>3077</td>\n",
              "      <td>15.498676</td>\n",
              "      <td>31.460140</td>\n",
              "      <td>14.561445</td>\n",
              "      <td>19.618728</td>\n",
              "      <td>21.913192</td>\n",
              "      <td>9</td>\n",
              "      <td>1</td>\n",
              "      <td>129</td>\n",
              "      <td>5</td>\n",
              "    </tr>\n",
              "    <tr>\n",
              "      <th>2104610</th>\n",
              "      <td>2017-05-10</td>\n",
              "      <td>1</td>\n",
              "      <td>1</td>\n",
              "      <td>16.0</td>\n",
              "      <td>0.0</td>\n",
              "      <td>13720.0</td>\n",
              "      <td>Cat_753</td>\n",
              "      <td>SubCat_3077</td>\n",
              "      <td>0.715514</td>\n",
              "      <td>0.299219</td>\n",
              "      <td>0.381067</td>\n",
              "      <td>0.0003</td>\n",
              "      <td>0.363847</td>\n",
              "      <td>0.300629</td>\n",
              "      <td>0.08</td>\n",
              "      <td>0.416806</td>\n",
              "      <td>1.171543</td>\n",
              "      <td>0.668805</td>\n",
              "      <td>753</td>\n",
              "      <td>3077</td>\n",
              "      <td>15.216466</td>\n",
              "      <td>1.870475</td>\n",
              "      <td>14.927854</td>\n",
              "      <td>20.069850</td>\n",
              "      <td>16.655313</td>\n",
              "      <td>10</td>\n",
              "      <td>2</td>\n",
              "      <td>130</td>\n",
              "      <td>5</td>\n",
              "    </tr>\n",
              "  </tbody>\n",
              "</table>\n",
              "</div>"
            ],
            "text/plain": [
              "              date  city  product  ...  dayofweek  dayofyear  month\n",
              "2034882 2017-05-06     1        1  ...          5        126      5\n",
              "2052177 2017-05-07     1        1  ...          6        127      5\n",
              "2068943 2017-05-08     1        1  ...          0        128      5\n",
              "2086299 2017-05-09     1        1  ...          1        129      5\n",
              "2104610 2017-05-10     1        1  ...          2        130      5\n",
              "\n",
              "[5 rows x 29 columns]"
            ]
          },
          "metadata": {
            "tags": []
          },
          "execution_count": 53
        }
      ]
    },
    {
      "cell_type": "markdown",
      "metadata": {
        "id": "pe1g27hM4aeo"
      },
      "source": [
        "# let's look at the correlation for the different columns with sales"
      ]
    },
    {
      "cell_type": "code",
      "metadata": {
        "id": "1Zc9lvVUD3H8"
      },
      "source": [
        "# gettting the correlation\n",
        "#all_corr = sales_master.corr().abs().unstack().sort_values(kind=\"quicksort\", ascending=False).reset_index()"
      ],
      "execution_count": null,
      "outputs": []
    },
    {
      "cell_type": "markdown",
      "metadata": {
        "id": "YK6awF5m88dq"
      },
      "source": [
        "### Insights\n",
        " \n",
        "\n",
        "*   We can see that the sales for a given day is highly correlated to the rolling average columns, sales lag columns which was expected\n",
        "*   Other columns showing high correlation with sales are the foot_fall, Discount, Product, var_6, City. out of these City and product and City are categorical columns which will help while using a model like XG boost, Random forrest etc\n",
        "\n",
        "any other features we can chuck from our model\n",
        "\n",
        "\n",
        "\n"
      ]
    },
    {
      "cell_type": "code",
      "metadata": {
        "id": "H3yLIDlpD3BY"
      },
      "source": [
        "#all_corr[all_corr['level_0'] == 'sales']"
      ],
      "execution_count": null,
      "outputs": []
    },
    {
      "cell_type": "markdown",
      "metadata": {
        "id": "LWiFhaQ6EZQa"
      },
      "source": [
        "\n",
        "\n",
        "---\n",
        "\n",
        "\n",
        "#Import Models, predict data and Validate using Cross Val Score\n",
        "\n",
        "\n",
        "---\n",
        "\n"
      ]
    },
    {
      "cell_type": "code",
      "metadata": {
        "id": "TXt4RArX87b0",
        "colab": {
          "base_uri": "https://localhost:8080/",
          "height": 34
        },
        "outputId": "f103ce41-4b25-4dfd-8fda-9ac189b38da0"
      },
      "source": [
        "from sklearn.ensemble import RandomForestRegressor\n",
        "from xgboost import XGBRegressor\n",
        "from sklearn.tree import DecisionTreeRegressor\n",
        "from sklearn.neighbors import KNeighborsRegressor\n",
        "from sklearn.model_selection import cross_val_score\n",
        "\n",
        "print(\"Model Import Complete!\")"
      ],
      "execution_count": null,
      "outputs": [
        {
          "output_type": "stream",
          "text": [
            "Model Import Complete!\n"
          ],
          "name": "stdout"
        }
      ]
    },
    {
      "cell_type": "code",
      "metadata": {
        "id": "UHduZ_ieEy68"
      },
      "source": [
        "# initializing the models\n",
        "\n",
        "rf = RandomForestRegressor(n_estimators = 5 , random_state=1)\n",
        "xgb = XGBRegressor(n_estimators = 5 , learning_rate = 0.1, n_jobs=-1)\n",
        "dec_tree = DecisionTreeRegressor(max_leaf_nodes = 40, random_state=42)\n",
        "knn = KNeighborsRegressor(n_neighbors = 10)\n",
        "\n",
        "features = ['sales_rmean_60','sales_rmean_14','sales_rmean_7','sales_lag_120','sales_lag_93','foot_fall','Discount',\n",
        "            'dayofweek','city','product_subcat','product_cat','month','product']\n",
        "\n",
        "\n",
        "X_train = sales_master[features]\n",
        "y_train = sales_master['sales']\n",
        "\n",
        "def get_score(model,cv):\n",
        "  score = -1*cross_val_score(model, X_train, y_train, n_jobs = -1, cv = cv, scoring = 'neg_root_mean_squared_error' )\n",
        "  return score.mean()\n",
        "\n"
      ],
      "execution_count": null,
      "outputs": []
    },
    {
      "cell_type": "code",
      "metadata": {
        "id": "XifRbuMhD2_C"
      },
      "source": [
        "\n",
        "#get_score(dec_tree,5)\n",
        "#KNN gives a very good result in this case with 98.558 root mean square error\n",
        "#this will only get better once we have scaled the data\n",
        "#DT with leaf not 40 gives 108.685\n",
        "#DT with 2017-2018, max leaf node 40 data gives 76.41\n",
        "#DT with 2017-2018, max leaf node 60 data gives 77.37\n",
        "#DT with 2017-2018, max leaf node 30 data gives 76.89.37"
      ],
      "execution_count": null,
      "outputs": []
    },
    {
      "cell_type": "markdown",
      "metadata": {
        "id": "q5jKn6bnRN22"
      },
      "source": [
        "#Preparing the Test Data"
      ]
    },
    {
      "cell_type": "code",
      "metadata": {
        "id": "j2-4LUzjD28K",
        "colab": {
          "base_uri": "https://localhost:8080/",
          "height": 101
        },
        "outputId": "2d527864-8f6d-4b55-e5ef-a4f72caf3e69"
      },
      "source": [
        "Total_data = sales_2018.append(test_data.drop(['id'],axis = 1),ignore_index = True)\n",
        "Total_data['date'] = pd.to_datetime(Total_data['date'])\n",
        "\n",
        "Total_data = Total_data.merge(expec_disc_pivotdown,how ='left',left_on = ['date','city','product'],\n",
        "                                       right_on = ['date','City_Code','product'],suffixes = ('_sales','_disc'))\n",
        "\n",
        "\n",
        "Total_data = create_sales_lag_feats(Total_data, gpby_cols=['city','product'], target_col='sales', \n",
        "                               lags=[93,120])\n",
        "\n",
        "Total_data = create_sales_rmean_feats(Total_data, gpby_cols=['city','product'], \n",
        "                                 target_col='sales', windows=[7,14,60], min_periods=2)\n",
        "                                 \n",
        "Total_data['dayofmonth'] = Total_data.date.dt.day\n",
        "Total_data['dayofweek'] = Total_data.date.dt.dayofweek\n",
        "Total_data['dayofyear'] = Total_data.date.dt.dayofyear\n",
        "Total_data['month'] = Total_data.date.dt.month\n",
        "\n",
        "Test_data_imputed = Total_data[Total_data['date']>'2018-04-30']\n",
        "Test_data_imputed.sort_values(['product','city','date'],inplace = True)\n",
        "\n",
        "print(\"Test data prepared!\")"
      ],
      "execution_count": null,
      "outputs": [
        {
          "output_type": "stream",
          "text": [
            "Test data prepared!\n"
          ],
          "name": "stdout"
        },
        {
          "output_type": "stream",
          "text": [
            "/usr/local/lib/python3.6/dist-packages/ipykernel_launcher.py:20: SettingWithCopyWarning: \n",
            "A value is trying to be set on a copy of a slice from a DataFrame\n",
            "\n",
            "See the caveats in the documentation: https://pandas.pydata.org/pandas-docs/stable/user_guide/indexing.html#returning-a-view-versus-a-copy\n"
          ],
          "name": "stderr"
        }
      ]
    },
    {
      "cell_type": "code",
      "metadata": {
        "id": "PsGaOxQ85qIH",
        "colab": {
          "base_uri": "https://localhost:8080/",
          "height": 400
        },
        "outputId": "03d24815-8192-4ec3-e780-682044abde90"
      },
      "source": [
        "Test_data_imputed['month'] = pd.DatetimeIndex(Test_data_imputed['date']).month\n",
        "Test_data_imputed.head()"
      ],
      "execution_count": null,
      "outputs": [
        {
          "output_type": "stream",
          "text": [
            "/usr/local/lib/python3.6/dist-packages/ipykernel_launcher.py:1: SettingWithCopyWarning: \n",
            "A value is trying to be set on a copy of a slice from a DataFrame.\n",
            "Try using .loc[row_indexer,col_indexer] = value instead\n",
            "\n",
            "See the caveats in the documentation: https://pandas.pydata.org/pandas-docs/stable/user_guide/indexing.html#returning-a-view-versus-a-copy\n",
            "  \"\"\"Entry point for launching an IPython kernel.\n"
          ],
          "name": "stderr"
        },
        {
          "output_type": "execute_result",
          "data": {
            "text/html": [
              "<div>\n",
              "<style scoped>\n",
              "    .dataframe tbody tr th:only-of-type {\n",
              "        vertical-align: middle;\n",
              "    }\n",
              "\n",
              "    .dataframe tbody tr th {\n",
              "        vertical-align: top;\n",
              "    }\n",
              "\n",
              "    .dataframe thead th {\n",
              "        text-align: right;\n",
              "    }\n",
              "</style>\n",
              "<table border=\"1\" class=\"dataframe\">\n",
              "  <thead>\n",
              "    <tr style=\"text-align: right;\">\n",
              "      <th></th>\n",
              "      <th>date</th>\n",
              "      <th>city</th>\n",
              "      <th>product</th>\n",
              "      <th>sales</th>\n",
              "      <th>City_Code</th>\n",
              "      <th>Discount</th>\n",
              "      <th>sales_lag_93</th>\n",
              "      <th>sales_lag_120</th>\n",
              "      <th>sales_rmean_7</th>\n",
              "      <th>sales_rmean_14</th>\n",
              "      <th>sales_rmean_60</th>\n",
              "      <th>dayofmonth</th>\n",
              "      <th>dayofweek</th>\n",
              "      <th>dayofyear</th>\n",
              "      <th>month</th>\n",
              "    </tr>\n",
              "  </thead>\n",
              "  <tbody>\n",
              "    <tr>\n",
              "      <th>2923427</th>\n",
              "      <td>2018-05-01</td>\n",
              "      <td>1</td>\n",
              "      <td>1</td>\n",
              "      <td>NaN</td>\n",
              "      <td>NaN</td>\n",
              "      <td>NaN</td>\n",
              "      <td>10.391860</td>\n",
              "      <td>NaN</td>\n",
              "      <td>13.328337</td>\n",
              "      <td>24.225877</td>\n",
              "      <td>27.578604</td>\n",
              "      <td>1</td>\n",
              "      <td>1</td>\n",
              "      <td>121</td>\n",
              "      <td>5</td>\n",
              "    </tr>\n",
              "    <tr>\n",
              "      <th>2949718</th>\n",
              "      <td>2018-05-02</td>\n",
              "      <td>1</td>\n",
              "      <td>1</td>\n",
              "      <td>NaN</td>\n",
              "      <td>1.0</td>\n",
              "      <td>1.0</td>\n",
              "      <td>1.391901</td>\n",
              "      <td>NaN</td>\n",
              "      <td>24.262733</td>\n",
              "      <td>28.163625</td>\n",
              "      <td>24.952384</td>\n",
              "      <td>2</td>\n",
              "      <td>2</td>\n",
              "      <td>122</td>\n",
              "      <td>5</td>\n",
              "    </tr>\n",
              "    <tr>\n",
              "      <th>2974348</th>\n",
              "      <td>2018-05-03</td>\n",
              "      <td>1</td>\n",
              "      <td>1</td>\n",
              "      <td>NaN</td>\n",
              "      <td>1.0</td>\n",
              "      <td>1.0</td>\n",
              "      <td>29.023359</td>\n",
              "      <td>NaN</td>\n",
              "      <td>27.763516</td>\n",
              "      <td>33.684314</td>\n",
              "      <td>28.028271</td>\n",
              "      <td>3</td>\n",
              "      <td>3</td>\n",
              "      <td>123</td>\n",
              "      <td>5</td>\n",
              "    </tr>\n",
              "    <tr>\n",
              "      <th>2998617</th>\n",
              "      <td>2018-05-04</td>\n",
              "      <td>1</td>\n",
              "      <td>1</td>\n",
              "      <td>NaN</td>\n",
              "      <td>1.0</td>\n",
              "      <td>1.0</td>\n",
              "      <td>23.655770</td>\n",
              "      <td>NaN</td>\n",
              "      <td>34.822515</td>\n",
              "      <td>43.648232</td>\n",
              "      <td>39.766631</td>\n",
              "      <td>4</td>\n",
              "      <td>4</td>\n",
              "      <td>124</td>\n",
              "      <td>5</td>\n",
              "    </tr>\n",
              "    <tr>\n",
              "      <th>3023197</th>\n",
              "      <td>2018-05-05</td>\n",
              "      <td>1</td>\n",
              "      <td>1</td>\n",
              "      <td>NaN</td>\n",
              "      <td>1.0</td>\n",
              "      <td>1.0</td>\n",
              "      <td>34.330416</td>\n",
              "      <td>63.819161</td>\n",
              "      <td>33.671410</td>\n",
              "      <td>58.020147</td>\n",
              "      <td>33.704106</td>\n",
              "      <td>5</td>\n",
              "      <td>5</td>\n",
              "      <td>125</td>\n",
              "      <td>5</td>\n",
              "    </tr>\n",
              "  </tbody>\n",
              "</table>\n",
              "</div>"
            ],
            "text/plain": [
              "              date  city  product  ...  dayofweek  dayofyear  month\n",
              "2923427 2018-05-01     1        1  ...          1        121      5\n",
              "2949718 2018-05-02     1        1  ...          2        122      5\n",
              "2974348 2018-05-03     1        1  ...          3        123      5\n",
              "2998617 2018-05-04     1        1  ...          4        124      5\n",
              "3023197 2018-05-05     1        1  ...          5        125      5\n",
              "\n",
              "[5 rows x 15 columns]"
            ]
          },
          "metadata": {
            "tags": []
          },
          "execution_count": 60
        }
      ]
    },
    {
      "cell_type": "markdown",
      "metadata": {
        "id": "VNZ_WZNPhBF9"
      },
      "source": [
        "###Imputing footfall data in the test dataset"
      ]
    },
    {
      "cell_type": "code",
      "metadata": {
        "id": "s6ZkjXzTdvFm"
      },
      "source": [
        "# imputing footfall values for the coming months\n",
        "footfall_pivotdown['dayofyear'] = footfall_pivotdown.date.dt.dayofyear\n",
        "\n",
        "a = footfall_pivotdown.groupby(['City_Code','dayofyear'],as_index = False).foot_fall.mean()\n",
        "\n",
        "\n",
        "Test_data_imputed = Test_data_imputed.merge(a,how = 'left',left_on = (['city','dayofyear']), right_on = (['City_Code','dayofyear']),suffixes = ('_x',''))\n"
      ],
      "execution_count": null,
      "outputs": []
    },
    {
      "cell_type": "code",
      "metadata": {
        "id": "W0mL2sqmc44l"
      },
      "source": [
        "# pulling the product category and subcategory data\n",
        "Test_data_imputed = Test_data_imputed.merge(product_map,how = 'left', left_on = 'product',right_on = 'product',suffixes = ('_x','_y'))\n",
        "sales_master = sales_master.astype({'product_cat':'int32','product_subcat':'int32'})"
      ],
      "execution_count": null,
      "outputs": []
    },
    {
      "cell_type": "code",
      "metadata": {
        "id": "Cu4PkEt-dvRg",
        "colab": {
          "base_uri": "https://localhost:8080/",
          "height": 353
        },
        "outputId": "b323d19d-db41-46fc-def3-79a02de69cdf"
      },
      "source": [
        "#Replacing Nan by 0 in the test data\n",
        "print (Test_data_imputed.isnull().sum())\n",
        "Test_data_imputed.fillna(0,inplace = True)"
      ],
      "execution_count": null,
      "outputs": [
        {
          "output_type": "stream",
          "text": [
            "date                    0\n",
            "city                    0\n",
            "product                 0\n",
            "sales             2262135\n",
            "City_Code_x       1993874\n",
            "Discount          1993874\n",
            "sales_lag_93       258253\n",
            "sales_lag_120      528550\n",
            "sales_rmean_7       55457\n",
            "sales_rmean_14      26878\n",
            "sales_rmean_60          0\n",
            "dayofmonth              0\n",
            "dayofweek               0\n",
            "dayofyear               0\n",
            "month                   0\n",
            "City_Code               0\n",
            "foot_fall               0\n",
            "product_cat          2335\n",
            "product_subcat       2335\n",
            "dtype: int64\n"
          ],
          "name": "stdout"
        }
      ]
    },
    {
      "cell_type": "code",
      "metadata": {
        "id": "mMorWbli0E68"
      },
      "source": [
        "# setting date as index so that we can pull the Id column for final submission file\n",
        "Test_data_imputed.set_index('date',inplace = True)"
      ],
      "execution_count": null,
      "outputs": []
    },
    {
      "cell_type": "code",
      "metadata": {
        "id": "qeKHOo9O0EiX"
      },
      "source": [
        "#Creating the final Test file\n",
        "Test_data_imputed = Test_data_imputed[features]"
      ],
      "execution_count": null,
      "outputs": []
    },
    {
      "cell_type": "code",
      "metadata": {
        "id": "ANdy_BCN0EgA",
        "colab": {
          "base_uri": "https://localhost:8080/",
          "height": 329
        },
        "outputId": "cef7da38-8641-442d-d212-c14057dac095"
      },
      "source": [
        "Test_data_imputed.head()"
      ],
      "execution_count": null,
      "outputs": [
        {
          "output_type": "execute_result",
          "data": {
            "text/html": [
              "<div>\n",
              "<style scoped>\n",
              "    .dataframe tbody tr th:only-of-type {\n",
              "        vertical-align: middle;\n",
              "    }\n",
              "\n",
              "    .dataframe tbody tr th {\n",
              "        vertical-align: top;\n",
              "    }\n",
              "\n",
              "    .dataframe thead th {\n",
              "        text-align: right;\n",
              "    }\n",
              "</style>\n",
              "<table border=\"1\" class=\"dataframe\">\n",
              "  <thead>\n",
              "    <tr style=\"text-align: right;\">\n",
              "      <th></th>\n",
              "      <th>sales_rmean_60</th>\n",
              "      <th>sales_rmean_14</th>\n",
              "      <th>sales_rmean_7</th>\n",
              "      <th>sales_lag_120</th>\n",
              "      <th>sales_lag_93</th>\n",
              "      <th>foot_fall</th>\n",
              "      <th>Discount</th>\n",
              "      <th>dayofweek</th>\n",
              "      <th>city</th>\n",
              "      <th>product_subcat</th>\n",
              "      <th>product_cat</th>\n",
              "      <th>month</th>\n",
              "      <th>product</th>\n",
              "    </tr>\n",
              "    <tr>\n",
              "      <th>date</th>\n",
              "      <th></th>\n",
              "      <th></th>\n",
              "      <th></th>\n",
              "      <th></th>\n",
              "      <th></th>\n",
              "      <th></th>\n",
              "      <th></th>\n",
              "      <th></th>\n",
              "      <th></th>\n",
              "      <th></th>\n",
              "      <th></th>\n",
              "      <th></th>\n",
              "      <th></th>\n",
              "    </tr>\n",
              "  </thead>\n",
              "  <tbody>\n",
              "    <tr>\n",
              "      <th>2018-05-01</th>\n",
              "      <td>27.578604</td>\n",
              "      <td>24.225877</td>\n",
              "      <td>13.328337</td>\n",
              "      <td>0.000000</td>\n",
              "      <td>10.391860</td>\n",
              "      <td>13122.666667</td>\n",
              "      <td>0.0</td>\n",
              "      <td>1</td>\n",
              "      <td>1</td>\n",
              "      <td>3077</td>\n",
              "      <td>753</td>\n",
              "      <td>5</td>\n",
              "      <td>1</td>\n",
              "    </tr>\n",
              "    <tr>\n",
              "      <th>2018-05-02</th>\n",
              "      <td>24.952384</td>\n",
              "      <td>28.163625</td>\n",
              "      <td>24.262733</td>\n",
              "      <td>0.000000</td>\n",
              "      <td>1.391901</td>\n",
              "      <td>13266.666667</td>\n",
              "      <td>1.0</td>\n",
              "      <td>2</td>\n",
              "      <td>1</td>\n",
              "      <td>3077</td>\n",
              "      <td>753</td>\n",
              "      <td>5</td>\n",
              "      <td>1</td>\n",
              "    </tr>\n",
              "    <tr>\n",
              "      <th>2018-05-03</th>\n",
              "      <td>28.028271</td>\n",
              "      <td>33.684314</td>\n",
              "      <td>27.763516</td>\n",
              "      <td>0.000000</td>\n",
              "      <td>29.023359</td>\n",
              "      <td>12937.333333</td>\n",
              "      <td>1.0</td>\n",
              "      <td>3</td>\n",
              "      <td>1</td>\n",
              "      <td>3077</td>\n",
              "      <td>753</td>\n",
              "      <td>5</td>\n",
              "      <td>1</td>\n",
              "    </tr>\n",
              "    <tr>\n",
              "      <th>2018-05-04</th>\n",
              "      <td>39.766631</td>\n",
              "      <td>43.648232</td>\n",
              "      <td>34.822515</td>\n",
              "      <td>0.000000</td>\n",
              "      <td>23.655770</td>\n",
              "      <td>14366.666667</td>\n",
              "      <td>1.0</td>\n",
              "      <td>4</td>\n",
              "      <td>1</td>\n",
              "      <td>3077</td>\n",
              "      <td>753</td>\n",
              "      <td>5</td>\n",
              "      <td>1</td>\n",
              "    </tr>\n",
              "    <tr>\n",
              "      <th>2018-05-05</th>\n",
              "      <td>33.704106</td>\n",
              "      <td>58.020147</td>\n",
              "      <td>33.671410</td>\n",
              "      <td>63.819161</td>\n",
              "      <td>34.330416</td>\n",
              "      <td>13714.666667</td>\n",
              "      <td>1.0</td>\n",
              "      <td>5</td>\n",
              "      <td>1</td>\n",
              "      <td>3077</td>\n",
              "      <td>753</td>\n",
              "      <td>5</td>\n",
              "      <td>1</td>\n",
              "    </tr>\n",
              "  </tbody>\n",
              "</table>\n",
              "</div>"
            ],
            "text/plain": [
              "            sales_rmean_60  sales_rmean_14  ...  month  product\n",
              "date                                        ...                \n",
              "2018-05-01       27.578604       24.225877  ...      5        1\n",
              "2018-05-02       24.952384       28.163625  ...      5        1\n",
              "2018-05-03       28.028271       33.684314  ...      5        1\n",
              "2018-05-04       39.766631       43.648232  ...      5        1\n",
              "2018-05-05       33.704106       58.020147  ...      5        1\n",
              "\n",
              "[5 rows x 13 columns]"
            ]
          },
          "metadata": {
            "tags": []
          },
          "execution_count": 66
        }
      ]
    },
    {
      "cell_type": "markdown",
      "metadata": {
        "id": "ciHcz0WG01zJ"
      },
      "source": [
        "\n",
        "\n",
        "---\n",
        "\n",
        "\n",
        "#Feature Scaling\n",
        "\n",
        "> KNN works best with scales features as it depends on the eucledian distance\n",
        "\n",
        "\n",
        "> To apply models like K nearest neighbor, neural networs or logistic regression we need to scale the features thus creating scaled features\n",
        "\n",
        "\n",
        "\n",
        "\n",
        "\n",
        "\n",
        "---\n",
        "\n",
        "\n",
        "\n"
      ]
    },
    {
      "cell_type": "code",
      "metadata": {
        "id": "E64RhZJz00mz"
      },
      "source": [
        "\n",
        "#from sklearn.preprocessing import StandardScaler\n",
        "#standard_scaler = StandardScaler()\n",
        "#X_train_knn = standard_scaler.fit_transform(X_train)\n",
        "#Test_data_imputed_knn = standard_scaler.fit_transform(Test_data_imputed)\n",
        "#print(\"Scaling Complete!\")"
      ],
      "execution_count": null,
      "outputs": []
    },
    {
      "cell_type": "code",
      "metadata": {
        "id": "S71Ydb2YNk3o"
      },
      "source": [
        "#knn.fit(X_train_knn,y_train)\n",
        "#print ('training complete!')"
      ],
      "execution_count": null,
      "outputs": []
    },
    {
      "cell_type": "code",
      "metadata": {
        "id": "2lyN1euuNwb2"
      },
      "source": [
        "#Test_data_imputed['y_pred'] = knn.predict(Test_data_imputed_knn)\n",
        "#print('prediction completed!')"
      ],
      "execution_count": null,
      "outputs": []
    },
    {
      "cell_type": "markdown",
      "metadata": {
        "id": "fPsxRh3bvLY1"
      },
      "source": [
        "\n",
        "\n",
        "---\n",
        "\n",
        "\n",
        "# Final Model selection and Forecast prediction\n",
        "\n",
        "\n",
        "---\n",
        "\n"
      ]
    },
    {
      "cell_type": "code",
      "metadata": {
        "id": "GhiIR-kl9Arf",
        "colab": {
          "base_uri": "https://localhost:8080/",
          "height": 67
        },
        "outputId": "ee3c9f58-0186-45d2-8d69-8afe06c619a6"
      },
      "source": [
        "def training_prediction(model):\n",
        "  model.fit(X_train,y_train)\n",
        "  print ('training complete!')\n",
        "  \n",
        "  Test_data_imputed['y_pred'] = model.predict(Test_data_imputed)\n",
        "  print('prediction completed!')\n",
        "  return print(\"modelling complete..\")\n",
        "\n",
        "\n",
        "training_prediction(dec_tree)"
      ],
      "execution_count": null,
      "outputs": [
        {
          "output_type": "stream",
          "text": [
            "training complete!\n",
            "prediction completed!\n",
            "modelling complete..\n"
          ],
          "name": "stdout"
        }
      ]
    },
    {
      "cell_type": "code",
      "metadata": {
        "id": "CETkjS7x9AzJ",
        "colab": {
          "base_uri": "https://localhost:8080/",
          "height": 101
        },
        "outputId": "0ad821c5-2fdc-47ff-9b65-b69a2dda09a6"
      },
      "source": [
        "test_data.head()\n",
        "\n",
        "test_data.dtypes\n"
      ],
      "execution_count": null,
      "outputs": [
        {
          "output_type": "execute_result",
          "data": {
            "text/plain": [
              "id                  int64\n",
              "date       datetime64[ns]\n",
              "city                int64\n",
              "product             int64\n",
              "dtype: object"
            ]
          },
          "metadata": {
            "tags": []
          },
          "execution_count": 71
        }
      ]
    },
    {
      "cell_type": "code",
      "metadata": {
        "id": "GQLVbB_V9BL4"
      },
      "source": [
        "Test_data_imputed = Test_data_imputed.reset_index().merge(test_data,how='left',left_on=['city','date','product'],\n",
        "                                                        right_on =['city','date','product'])"
      ],
      "execution_count": null,
      "outputs": []
    },
    {
      "cell_type": "code",
      "metadata": {
        "id": "0ZNaRsrL9Aw4",
        "colab": {
          "base_uri": "https://localhost:8080/",
          "height": 299
        },
        "outputId": "a8498fad-bc59-4525-cf95-0ce3d47f88cb"
      },
      "source": [
        "Test_data_imputed.head()"
      ],
      "execution_count": null,
      "outputs": [
        {
          "output_type": "execute_result",
          "data": {
            "text/html": [
              "<div>\n",
              "<style scoped>\n",
              "    .dataframe tbody tr th:only-of-type {\n",
              "        vertical-align: middle;\n",
              "    }\n",
              "\n",
              "    .dataframe tbody tr th {\n",
              "        vertical-align: top;\n",
              "    }\n",
              "\n",
              "    .dataframe thead th {\n",
              "        text-align: right;\n",
              "    }\n",
              "</style>\n",
              "<table border=\"1\" class=\"dataframe\">\n",
              "  <thead>\n",
              "    <tr style=\"text-align: right;\">\n",
              "      <th></th>\n",
              "      <th>date</th>\n",
              "      <th>sales_rmean_60</th>\n",
              "      <th>sales_rmean_14</th>\n",
              "      <th>sales_rmean_7</th>\n",
              "      <th>sales_lag_120</th>\n",
              "      <th>sales_lag_93</th>\n",
              "      <th>foot_fall</th>\n",
              "      <th>Discount</th>\n",
              "      <th>dayofweek</th>\n",
              "      <th>city</th>\n",
              "      <th>product_subcat</th>\n",
              "      <th>product_cat</th>\n",
              "      <th>month</th>\n",
              "      <th>product</th>\n",
              "      <th>y_pred</th>\n",
              "      <th>id</th>\n",
              "    </tr>\n",
              "  </thead>\n",
              "  <tbody>\n",
              "    <tr>\n",
              "      <th>0</th>\n",
              "      <td>2018-05-01</td>\n",
              "      <td>27.578604</td>\n",
              "      <td>24.225877</td>\n",
              "      <td>13.328337</td>\n",
              "      <td>0.000000</td>\n",
              "      <td>10.391860</td>\n",
              "      <td>13122.666667</td>\n",
              "      <td>0.0</td>\n",
              "      <td>1</td>\n",
              "      <td>1</td>\n",
              "      <td>3077</td>\n",
              "      <td>753</td>\n",
              "      <td>5</td>\n",
              "      <td>1</td>\n",
              "      <td>28.263538</td>\n",
              "      <td>2</td>\n",
              "    </tr>\n",
              "    <tr>\n",
              "      <th>1</th>\n",
              "      <td>2018-05-02</td>\n",
              "      <td>24.952384</td>\n",
              "      <td>28.163625</td>\n",
              "      <td>24.262733</td>\n",
              "      <td>0.000000</td>\n",
              "      <td>1.391901</td>\n",
              "      <td>13266.666667</td>\n",
              "      <td>1.0</td>\n",
              "      <td>2</td>\n",
              "      <td>1</td>\n",
              "      <td>3077</td>\n",
              "      <td>753</td>\n",
              "      <td>5</td>\n",
              "      <td>1</td>\n",
              "      <td>28.263538</td>\n",
              "      <td>26293</td>\n",
              "    </tr>\n",
              "    <tr>\n",
              "      <th>2</th>\n",
              "      <td>2018-05-03</td>\n",
              "      <td>28.028271</td>\n",
              "      <td>33.684314</td>\n",
              "      <td>27.763516</td>\n",
              "      <td>0.000000</td>\n",
              "      <td>29.023359</td>\n",
              "      <td>12937.333333</td>\n",
              "      <td>1.0</td>\n",
              "      <td>3</td>\n",
              "      <td>1</td>\n",
              "      <td>3077</td>\n",
              "      <td>753</td>\n",
              "      <td>5</td>\n",
              "      <td>1</td>\n",
              "      <td>28.263538</td>\n",
              "      <td>50923</td>\n",
              "    </tr>\n",
              "    <tr>\n",
              "      <th>3</th>\n",
              "      <td>2018-05-04</td>\n",
              "      <td>39.766631</td>\n",
              "      <td>43.648232</td>\n",
              "      <td>34.822515</td>\n",
              "      <td>0.000000</td>\n",
              "      <td>23.655770</td>\n",
              "      <td>14366.666667</td>\n",
              "      <td>1.0</td>\n",
              "      <td>4</td>\n",
              "      <td>1</td>\n",
              "      <td>3077</td>\n",
              "      <td>753</td>\n",
              "      <td>5</td>\n",
              "      <td>1</td>\n",
              "      <td>37.867339</td>\n",
              "      <td>75192</td>\n",
              "    </tr>\n",
              "    <tr>\n",
              "      <th>4</th>\n",
              "      <td>2018-05-05</td>\n",
              "      <td>33.704106</td>\n",
              "      <td>58.020147</td>\n",
              "      <td>33.671410</td>\n",
              "      <td>63.819161</td>\n",
              "      <td>34.330416</td>\n",
              "      <td>13714.666667</td>\n",
              "      <td>1.0</td>\n",
              "      <td>5</td>\n",
              "      <td>1</td>\n",
              "      <td>3077</td>\n",
              "      <td>753</td>\n",
              "      <td>5</td>\n",
              "      <td>1</td>\n",
              "      <td>28.263538</td>\n",
              "      <td>99772</td>\n",
              "    </tr>\n",
              "  </tbody>\n",
              "</table>\n",
              "</div>"
            ],
            "text/plain": [
              "        date  sales_rmean_60  sales_rmean_14  ...  product     y_pred     id\n",
              "0 2018-05-01       27.578604       24.225877  ...        1  28.263538      2\n",
              "1 2018-05-02       24.952384       28.163625  ...        1  28.263538  26293\n",
              "2 2018-05-03       28.028271       33.684314  ...        1  28.263538  50923\n",
              "3 2018-05-04       39.766631       43.648232  ...        1  37.867339  75192\n",
              "4 2018-05-05       33.704106       58.020147  ...        1  28.263538  99772\n",
              "\n",
              "[5 rows x 16 columns]"
            ]
          },
          "metadata": {
            "tags": []
          },
          "execution_count": 73
        }
      ]
    },
    {
      "cell_type": "code",
      "metadata": {
        "id": "brzK5AoP9Adf"
      },
      "source": [
        "Submission_DT=Test_data_imputed[['id','y_pred']].rename(columns = {'y_pred':'sales'})\n",
        "\n",
        "Submission_DT['sales'] =  Submission_DT.sales.apply(np.round) \n",
        "\n",
        "path = '/content/drive/My Drive/Decision_Tree_Predictions_2.csv'\n",
        "Submission_DT.to_csv(path,index = False)\n",
        "\n"
      ],
      "execution_count": null,
      "outputs": []
    },
    {
      "cell_type": "code",
      "metadata": {
        "id": "CHxgMmCGE_Ak",
        "colab": {
          "base_uri": "https://localhost:8080/",
          "height": 34
        },
        "outputId": "558d291a-8e28-49b3-d340-ca974d01cf84"
      },
      "source": [
        "test_data.shape"
      ],
      "execution_count": null,
      "outputs": [
        {
          "output_type": "execute_result",
          "data": {
            "text/plain": [
              "(2262135, 4)"
            ]
          },
          "metadata": {
            "tags": []
          },
          "execution_count": 75
        }
      ]
    },
    {
      "cell_type": "code",
      "metadata": {
        "id": "Sw9t4zKSFEmS",
        "colab": {
          "base_uri": "https://localhost:8080/",
          "height": 34
        },
        "outputId": "4b59d2f4-9768-4754-9889-1405f3bf80cd"
      },
      "source": [
        "Submission_DT.shape"
      ],
      "execution_count": null,
      "outputs": [
        {
          "output_type": "execute_result",
          "data": {
            "text/plain": [
              "(2262135, 2)"
            ]
          },
          "metadata": {
            "tags": []
          },
          "execution_count": 76
        }
      ]
    },
    {
      "cell_type": "markdown",
      "metadata": {
        "id": "wqdzHk4fFjc2"
      },
      "source": [
        ""
      ]
    }
  ]
}